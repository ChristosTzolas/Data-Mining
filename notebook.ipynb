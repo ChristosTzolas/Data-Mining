{
 "metadata": {
  "language_info": {
   "codemirror_mode": {
    "name": "ipython",
    "version": 3
   },
   "file_extension": ".py",
   "mimetype": "text/x-python",
   "name": "python",
   "nbconvert_exporter": "python",
   "pygments_lexer": "ipython3",
   "version": "3.8.7"
  },
  "orig_nbformat": 2,
  "kernelspec": {
   "name": "python387jvsc74a57bd0e404b59586357c814bc0d3940e75d6763c00a48753b225b81f7716971b8e1741",
   "display_name": "Python 3.8.7 64-bit"
  }
 },
 "nbformat": 4,
 "nbformat_minor": 2,
 "cells": [
  {
   "cell_type": "code",
   "execution_count": 1,
   "metadata": {},
   "outputs": [],
   "source": [
    "#libraries\n",
    "import numpy as np \n",
    "import pandas as pd \n",
    "from matplotlib import pyplot as plt \n",
    "import seaborn as sns\n",
    "sns.set(style='darkgrid')\n",
    "from sklearn.ensemble import RandomForestClassifier\n",
    "from sklearn.model_selection import GridSearchCV\n",
    "from sklearn.model_selection import KFold\n",
    "from sklearn.model_selection import train_test_split\n",
    "from sklearn.metrics import f1_score,precision_score,recall_score\n",
    "from sklearn.impute import KNNImputer\n",
    "from sklearn.preprocessing import StandardScaler\n",
    "from sklearn.preprocessing import MinMaxScaler\n",
    "from sklearn.linear_model import LinearRegression"
   ]
  },
  {
   "cell_type": "code",
   "execution_count": 2,
   "metadata": {},
   "outputs": [],
   "source": [
    "from sklearn.metrics import accuracy_score\n"
   ]
  },
  {
   "cell_type": "code",
   "execution_count": 3,
   "metadata": {},
   "outputs": [
    {
     "output_type": "execute_result",
     "data": {
      "text/plain": [
       "      id  gender   age  hypertension  heart_disease ever_married  \\\n",
       "0   9046    Male  67.0             0              1          Yes   \n",
       "1  51676  Female  61.0             0              0          Yes   \n",
       "2  31112    Male  80.0             0              1          Yes   \n",
       "3  60182  Female  49.0             0              0          Yes   \n",
       "4   1665  Female  79.0             1              0          Yes   \n",
       "\n",
       "       work_type Residence_type  avg_glucose_level   bmi   smoking_status  \\\n",
       "0        Private          Urban             228.69  36.6  formerly smoked   \n",
       "1  Self-employed          Rural             202.21   NaN     never smoked   \n",
       "2        Private          Rural             105.92  32.5     never smoked   \n",
       "3        Private          Urban             171.23  34.4           smokes   \n",
       "4  Self-employed          Rural             174.12  24.0     never smoked   \n",
       "\n",
       "   stroke  \n",
       "0       1  \n",
       "1       1  \n",
       "2       1  \n",
       "3       1  \n",
       "4       1  "
      ],
      "text/html": "<div>\n<style scoped>\n    .dataframe tbody tr th:only-of-type {\n        vertical-align: middle;\n    }\n\n    .dataframe tbody tr th {\n        vertical-align: top;\n    }\n\n    .dataframe thead th {\n        text-align: right;\n    }\n</style>\n<table border=\"1\" class=\"dataframe\">\n  <thead>\n    <tr style=\"text-align: right;\">\n      <th></th>\n      <th>id</th>\n      <th>gender</th>\n      <th>age</th>\n      <th>hypertension</th>\n      <th>heart_disease</th>\n      <th>ever_married</th>\n      <th>work_type</th>\n      <th>Residence_type</th>\n      <th>avg_glucose_level</th>\n      <th>bmi</th>\n      <th>smoking_status</th>\n      <th>stroke</th>\n    </tr>\n  </thead>\n  <tbody>\n    <tr>\n      <th>0</th>\n      <td>9046</td>\n      <td>Male</td>\n      <td>67.0</td>\n      <td>0</td>\n      <td>1</td>\n      <td>Yes</td>\n      <td>Private</td>\n      <td>Urban</td>\n      <td>228.69</td>\n      <td>36.6</td>\n      <td>formerly smoked</td>\n      <td>1</td>\n    </tr>\n    <tr>\n      <th>1</th>\n      <td>51676</td>\n      <td>Female</td>\n      <td>61.0</td>\n      <td>0</td>\n      <td>0</td>\n      <td>Yes</td>\n      <td>Self-employed</td>\n      <td>Rural</td>\n      <td>202.21</td>\n      <td>NaN</td>\n      <td>never smoked</td>\n      <td>1</td>\n    </tr>\n    <tr>\n      <th>2</th>\n      <td>31112</td>\n      <td>Male</td>\n      <td>80.0</td>\n      <td>0</td>\n      <td>1</td>\n      <td>Yes</td>\n      <td>Private</td>\n      <td>Rural</td>\n      <td>105.92</td>\n      <td>32.5</td>\n      <td>never smoked</td>\n      <td>1</td>\n    </tr>\n    <tr>\n      <th>3</th>\n      <td>60182</td>\n      <td>Female</td>\n      <td>49.0</td>\n      <td>0</td>\n      <td>0</td>\n      <td>Yes</td>\n      <td>Private</td>\n      <td>Urban</td>\n      <td>171.23</td>\n      <td>34.4</td>\n      <td>smokes</td>\n      <td>1</td>\n    </tr>\n    <tr>\n      <th>4</th>\n      <td>1665</td>\n      <td>Female</td>\n      <td>79.0</td>\n      <td>1</td>\n      <td>0</td>\n      <td>Yes</td>\n      <td>Self-employed</td>\n      <td>Rural</td>\n      <td>174.12</td>\n      <td>24.0</td>\n      <td>never smoked</td>\n      <td>1</td>\n    </tr>\n  </tbody>\n</table>\n</div>"
     },
     "metadata": {},
     "execution_count": 3
    }
   ],
   "source": [
    "df = pd.read_csv('healthcare-dataset-stroke-data\\healthcare-dataset-stroke-data.csv')\n",
    "df.head()"
   ]
  },
  {
   "cell_type": "code",
   "execution_count": 4,
   "metadata": {},
   "outputs": [
    {
     "output_type": "execute_result",
     "data": {
      "text/plain": [
       "5110"
      ]
     },
     "metadata": {},
     "execution_count": 4
    }
   ],
   "source": [
    "len(df)\n"
   ]
  },
  {
   "cell_type": "code",
   "execution_count": 5,
   "metadata": {},
   "outputs": [
    {
     "output_type": "execute_result",
     "data": {
      "text/plain": [
       "id                     0\n",
       "gender                 0\n",
       "age                    0\n",
       "hypertension           0\n",
       "heart_disease          0\n",
       "ever_married           0\n",
       "work_type              0\n",
       "Residence_type         0\n",
       "avg_glucose_level      0\n",
       "bmi                  201\n",
       "smoking_status         0\n",
       "stroke                 0\n",
       "dtype: int64"
      ]
     },
     "metadata": {},
     "execution_count": 5
    }
   ],
   "source": [
    "df.isnull().sum()\n"
   ]
  },
  {
   "cell_type": "code",
   "execution_count": 6,
   "metadata": {},
   "outputs": [
    {
     "output_type": "stream",
     "name": "stderr",
     "text": [
      "C:\\Python\\Python38\\lib\\site-packages\\pandas\\core\\ops\\array_ops.py:253: FutureWarning: elementwise comparison failed; returning scalar instead, but in the future will perform elementwise comparison\n  res_values = method(rvalues)\n"
     ]
    },
    {
     "output_type": "execute_result",
     "data": {
      "text/plain": [
       "      id gender  age  hypertension  heart_disease ever_married work_type  \\\n",
       "0    NaN    NaN  NaN           NaN            NaN          NaN       NaN   \n",
       "1    NaN    NaN  NaN           NaN            NaN          NaN       NaN   \n",
       "2    NaN    NaN  NaN           NaN            NaN          NaN       NaN   \n",
       "3    NaN    NaN  NaN           NaN            NaN          NaN       NaN   \n",
       "4    NaN    NaN  NaN           NaN            NaN          NaN       NaN   \n",
       "...   ..    ...  ...           ...            ...          ...       ...   \n",
       "5105 NaN    NaN  NaN           NaN            NaN          NaN       NaN   \n",
       "5106 NaN    NaN  NaN           NaN            NaN          NaN       NaN   \n",
       "5107 NaN    NaN  NaN           NaN            NaN          NaN       NaN   \n",
       "5108 NaN    NaN  NaN           NaN            NaN          NaN       NaN   \n",
       "5109 NaN    NaN  NaN           NaN            NaN          NaN       NaN   \n",
       "\n",
       "     Residence_type  avg_glucose_level  bmi smoking_status  stroke  \n",
       "0               NaN                NaN  NaN            NaN     NaN  \n",
       "1               NaN                NaN  NaN            NaN     NaN  \n",
       "2               NaN                NaN  NaN            NaN     NaN  \n",
       "3               NaN                NaN  NaN            NaN     NaN  \n",
       "4               NaN                NaN  NaN            NaN     NaN  \n",
       "...             ...                ...  ...            ...     ...  \n",
       "5105            NaN                NaN  NaN            NaN     NaN  \n",
       "5106            NaN                NaN  NaN            NaN     NaN  \n",
       "5107            NaN                NaN  NaN            NaN     NaN  \n",
       "5108            NaN                NaN  NaN            NaN     NaN  \n",
       "5109            NaN                NaN  NaN        Unknown     NaN  \n",
       "\n",
       "[5110 rows x 12 columns]"
      ],
      "text/html": "<div>\n<style scoped>\n    .dataframe tbody tr th:only-of-type {\n        vertical-align: middle;\n    }\n\n    .dataframe tbody tr th {\n        vertical-align: top;\n    }\n\n    .dataframe thead th {\n        text-align: right;\n    }\n</style>\n<table border=\"1\" class=\"dataframe\">\n  <thead>\n    <tr style=\"text-align: right;\">\n      <th></th>\n      <th>id</th>\n      <th>gender</th>\n      <th>age</th>\n      <th>hypertension</th>\n      <th>heart_disease</th>\n      <th>ever_married</th>\n      <th>work_type</th>\n      <th>Residence_type</th>\n      <th>avg_glucose_level</th>\n      <th>bmi</th>\n      <th>smoking_status</th>\n      <th>stroke</th>\n    </tr>\n  </thead>\n  <tbody>\n    <tr>\n      <th>0</th>\n      <td>NaN</td>\n      <td>NaN</td>\n      <td>NaN</td>\n      <td>NaN</td>\n      <td>NaN</td>\n      <td>NaN</td>\n      <td>NaN</td>\n      <td>NaN</td>\n      <td>NaN</td>\n      <td>NaN</td>\n      <td>NaN</td>\n      <td>NaN</td>\n    </tr>\n    <tr>\n      <th>1</th>\n      <td>NaN</td>\n      <td>NaN</td>\n      <td>NaN</td>\n      <td>NaN</td>\n      <td>NaN</td>\n      <td>NaN</td>\n      <td>NaN</td>\n      <td>NaN</td>\n      <td>NaN</td>\n      <td>NaN</td>\n      <td>NaN</td>\n      <td>NaN</td>\n    </tr>\n    <tr>\n      <th>2</th>\n      <td>NaN</td>\n      <td>NaN</td>\n      <td>NaN</td>\n      <td>NaN</td>\n      <td>NaN</td>\n      <td>NaN</td>\n      <td>NaN</td>\n      <td>NaN</td>\n      <td>NaN</td>\n      <td>NaN</td>\n      <td>NaN</td>\n      <td>NaN</td>\n    </tr>\n    <tr>\n      <th>3</th>\n      <td>NaN</td>\n      <td>NaN</td>\n      <td>NaN</td>\n      <td>NaN</td>\n      <td>NaN</td>\n      <td>NaN</td>\n      <td>NaN</td>\n      <td>NaN</td>\n      <td>NaN</td>\n      <td>NaN</td>\n      <td>NaN</td>\n      <td>NaN</td>\n    </tr>\n    <tr>\n      <th>4</th>\n      <td>NaN</td>\n      <td>NaN</td>\n      <td>NaN</td>\n      <td>NaN</td>\n      <td>NaN</td>\n      <td>NaN</td>\n      <td>NaN</td>\n      <td>NaN</td>\n      <td>NaN</td>\n      <td>NaN</td>\n      <td>NaN</td>\n      <td>NaN</td>\n    </tr>\n    <tr>\n      <th>...</th>\n      <td>...</td>\n      <td>...</td>\n      <td>...</td>\n      <td>...</td>\n      <td>...</td>\n      <td>...</td>\n      <td>...</td>\n      <td>...</td>\n      <td>...</td>\n      <td>...</td>\n      <td>...</td>\n      <td>...</td>\n    </tr>\n    <tr>\n      <th>5105</th>\n      <td>NaN</td>\n      <td>NaN</td>\n      <td>NaN</td>\n      <td>NaN</td>\n      <td>NaN</td>\n      <td>NaN</td>\n      <td>NaN</td>\n      <td>NaN</td>\n      <td>NaN</td>\n      <td>NaN</td>\n      <td>NaN</td>\n      <td>NaN</td>\n    </tr>\n    <tr>\n      <th>5106</th>\n      <td>NaN</td>\n      <td>NaN</td>\n      <td>NaN</td>\n      <td>NaN</td>\n      <td>NaN</td>\n      <td>NaN</td>\n      <td>NaN</td>\n      <td>NaN</td>\n      <td>NaN</td>\n      <td>NaN</td>\n      <td>NaN</td>\n      <td>NaN</td>\n    </tr>\n    <tr>\n      <th>5107</th>\n      <td>NaN</td>\n      <td>NaN</td>\n      <td>NaN</td>\n      <td>NaN</td>\n      <td>NaN</td>\n      <td>NaN</td>\n      <td>NaN</td>\n      <td>NaN</td>\n      <td>NaN</td>\n      <td>NaN</td>\n      <td>NaN</td>\n      <td>NaN</td>\n    </tr>\n    <tr>\n      <th>5108</th>\n      <td>NaN</td>\n      <td>NaN</td>\n      <td>NaN</td>\n      <td>NaN</td>\n      <td>NaN</td>\n      <td>NaN</td>\n      <td>NaN</td>\n      <td>NaN</td>\n      <td>NaN</td>\n      <td>NaN</td>\n      <td>NaN</td>\n      <td>NaN</td>\n    </tr>\n    <tr>\n      <th>5109</th>\n      <td>NaN</td>\n      <td>NaN</td>\n      <td>NaN</td>\n      <td>NaN</td>\n      <td>NaN</td>\n      <td>NaN</td>\n      <td>NaN</td>\n      <td>NaN</td>\n      <td>NaN</td>\n      <td>NaN</td>\n      <td>Unknown</td>\n      <td>NaN</td>\n    </tr>\n  </tbody>\n</table>\n<p>5110 rows × 12 columns</p>\n</div>"
     },
     "metadata": {},
     "execution_count": 6
    }
   ],
   "source": [
    "df[df == 'Unknown']\n"
   ]
  },
  {
   "cell_type": "code",
   "execution_count": 7,
   "metadata": {},
   "outputs": [],
   "source": [
    "#So we have missing values in 'bmi' column and some 'unknown' values in smoking_status\n",
    "#Drop only missing values\n",
    "df1a = df.drop(columns = ['bmi'])"
   ]
  },
  {
   "cell_type": "code",
   "execution_count": 8,
   "metadata": {},
   "outputs": [
    {
     "output_type": "execute_result",
     "data": {
      "text/plain": [
       "      id  gender   age  hypertension  heart_disease ever_married  \\\n",
       "0   9046    Male  67.0             0              1          Yes   \n",
       "1  51676  Female  61.0             0              0          Yes   \n",
       "2  31112    Male  80.0             0              1          Yes   \n",
       "3  60182  Female  49.0             0              0          Yes   \n",
       "4   1665  Female  79.0             1              0          Yes   \n",
       "\n",
       "       work_type Residence_type  avg_glucose_level   smoking_status  stroke  \n",
       "0        Private          Urban             228.69  formerly smoked       1  \n",
       "1  Self-employed          Rural             202.21     never smoked       1  \n",
       "2        Private          Rural             105.92     never smoked       1  \n",
       "3        Private          Urban             171.23           smokes       1  \n",
       "4  Self-employed          Rural             174.12     never smoked       1  "
      ],
      "text/html": "<div>\n<style scoped>\n    .dataframe tbody tr th:only-of-type {\n        vertical-align: middle;\n    }\n\n    .dataframe tbody tr th {\n        vertical-align: top;\n    }\n\n    .dataframe thead th {\n        text-align: right;\n    }\n</style>\n<table border=\"1\" class=\"dataframe\">\n  <thead>\n    <tr style=\"text-align: right;\">\n      <th></th>\n      <th>id</th>\n      <th>gender</th>\n      <th>age</th>\n      <th>hypertension</th>\n      <th>heart_disease</th>\n      <th>ever_married</th>\n      <th>work_type</th>\n      <th>Residence_type</th>\n      <th>avg_glucose_level</th>\n      <th>smoking_status</th>\n      <th>stroke</th>\n    </tr>\n  </thead>\n  <tbody>\n    <tr>\n      <th>0</th>\n      <td>9046</td>\n      <td>Male</td>\n      <td>67.0</td>\n      <td>0</td>\n      <td>1</td>\n      <td>Yes</td>\n      <td>Private</td>\n      <td>Urban</td>\n      <td>228.69</td>\n      <td>formerly smoked</td>\n      <td>1</td>\n    </tr>\n    <tr>\n      <th>1</th>\n      <td>51676</td>\n      <td>Female</td>\n      <td>61.0</td>\n      <td>0</td>\n      <td>0</td>\n      <td>Yes</td>\n      <td>Self-employed</td>\n      <td>Rural</td>\n      <td>202.21</td>\n      <td>never smoked</td>\n      <td>1</td>\n    </tr>\n    <tr>\n      <th>2</th>\n      <td>31112</td>\n      <td>Male</td>\n      <td>80.0</td>\n      <td>0</td>\n      <td>1</td>\n      <td>Yes</td>\n      <td>Private</td>\n      <td>Rural</td>\n      <td>105.92</td>\n      <td>never smoked</td>\n      <td>1</td>\n    </tr>\n    <tr>\n      <th>3</th>\n      <td>60182</td>\n      <td>Female</td>\n      <td>49.0</td>\n      <td>0</td>\n      <td>0</td>\n      <td>Yes</td>\n      <td>Private</td>\n      <td>Urban</td>\n      <td>171.23</td>\n      <td>smokes</td>\n      <td>1</td>\n    </tr>\n    <tr>\n      <th>4</th>\n      <td>1665</td>\n      <td>Female</td>\n      <td>79.0</td>\n      <td>1</td>\n      <td>0</td>\n      <td>Yes</td>\n      <td>Self-employed</td>\n      <td>Rural</td>\n      <td>174.12</td>\n      <td>never smoked</td>\n      <td>1</td>\n    </tr>\n  </tbody>\n</table>\n</div>"
     },
     "metadata": {},
     "execution_count": 8
    }
   ],
   "source": [
    "df1a.head()\n"
   ]
  },
  {
   "cell_type": "code",
   "execution_count": 9,
   "metadata": {},
   "outputs": [
    {
     "output_type": "execute_result",
     "data": {
      "text/plain": [
       "      id  gender   age  hypertension  heart_disease ever_married  \\\n",
       "0   9046    Male  67.0             0              1          Yes   \n",
       "1  51676  Female  61.0             0              0          Yes   \n",
       "2  31112    Male  80.0             0              1          Yes   \n",
       "3  60182  Female  49.0             0              0          Yes   \n",
       "4   1665  Female  79.0             1              0          Yes   \n",
       "\n",
       "       work_type Residence_type  avg_glucose_level  stroke  \n",
       "0        Private          Urban             228.69       1  \n",
       "1  Self-employed          Rural             202.21       1  \n",
       "2        Private          Rural             105.92       1  \n",
       "3        Private          Urban             171.23       1  \n",
       "4  Self-employed          Rural             174.12       1  "
      ],
      "text/html": "<div>\n<style scoped>\n    .dataframe tbody tr th:only-of-type {\n        vertical-align: middle;\n    }\n\n    .dataframe tbody tr th {\n        vertical-align: top;\n    }\n\n    .dataframe thead th {\n        text-align: right;\n    }\n</style>\n<table border=\"1\" class=\"dataframe\">\n  <thead>\n    <tr style=\"text-align: right;\">\n      <th></th>\n      <th>id</th>\n      <th>gender</th>\n      <th>age</th>\n      <th>hypertension</th>\n      <th>heart_disease</th>\n      <th>ever_married</th>\n      <th>work_type</th>\n      <th>Residence_type</th>\n      <th>avg_glucose_level</th>\n      <th>stroke</th>\n    </tr>\n  </thead>\n  <tbody>\n    <tr>\n      <th>0</th>\n      <td>9046</td>\n      <td>Male</td>\n      <td>67.0</td>\n      <td>0</td>\n      <td>1</td>\n      <td>Yes</td>\n      <td>Private</td>\n      <td>Urban</td>\n      <td>228.69</td>\n      <td>1</td>\n    </tr>\n    <tr>\n      <th>1</th>\n      <td>51676</td>\n      <td>Female</td>\n      <td>61.0</td>\n      <td>0</td>\n      <td>0</td>\n      <td>Yes</td>\n      <td>Self-employed</td>\n      <td>Rural</td>\n      <td>202.21</td>\n      <td>1</td>\n    </tr>\n    <tr>\n      <th>2</th>\n      <td>31112</td>\n      <td>Male</td>\n      <td>80.0</td>\n      <td>0</td>\n      <td>1</td>\n      <td>Yes</td>\n      <td>Private</td>\n      <td>Rural</td>\n      <td>105.92</td>\n      <td>1</td>\n    </tr>\n    <tr>\n      <th>3</th>\n      <td>60182</td>\n      <td>Female</td>\n      <td>49.0</td>\n      <td>0</td>\n      <td>0</td>\n      <td>Yes</td>\n      <td>Private</td>\n      <td>Urban</td>\n      <td>171.23</td>\n      <td>1</td>\n    </tr>\n    <tr>\n      <th>4</th>\n      <td>1665</td>\n      <td>Female</td>\n      <td>79.0</td>\n      <td>1</td>\n      <td>0</td>\n      <td>Yes</td>\n      <td>Self-employed</td>\n      <td>Rural</td>\n      <td>174.12</td>\n      <td>1</td>\n    </tr>\n  </tbody>\n</table>\n</div>"
     },
     "metadata": {},
     "execution_count": 9
    }
   ],
   "source": [
    "#Drop missing values and \"Unknown\" values\n",
    "#First Matrix\n",
    "df1b = df.drop(columns = ['bmi','smoking_status'])\n",
    "df1b.head()"
   ]
  },
  {
   "cell_type": "code",
   "execution_count": 10,
   "metadata": {},
   "outputs": [],
   "source": [
    "#Mean Imputation"
   ]
  },
  {
   "cell_type": "code",
   "execution_count": 11,
   "metadata": {},
   "outputs": [],
   "source": [
    "df2 = df.copy()\n"
   ]
  },
  {
   "cell_type": "code",
   "execution_count": 12,
   "metadata": {},
   "outputs": [
    {
     "output_type": "execute_result",
     "data": {
      "text/plain": [
       "      id  gender   age  hypertension  heart_disease ever_married  \\\n",
       "0   9046    Male  67.0             0              1          Yes   \n",
       "1  51676  Female  61.0             0              0          Yes   \n",
       "2  31112    Male  80.0             0              1          Yes   \n",
       "3  60182  Female  49.0             0              0          Yes   \n",
       "4   1665  Female  79.0             1              0          Yes   \n",
       "\n",
       "       work_type Residence_type  avg_glucose_level   bmi   smoking_status  \\\n",
       "0        Private          Urban             228.69  36.6  formerly smoked   \n",
       "1  Self-employed          Rural             202.21   NaN     never smoked   \n",
       "2        Private          Rural             105.92  32.5     never smoked   \n",
       "3        Private          Urban             171.23  34.4           smokes   \n",
       "4  Self-employed          Rural             174.12  24.0     never smoked   \n",
       "\n",
       "   stroke  \n",
       "0       1  \n",
       "1       1  \n",
       "2       1  \n",
       "3       1  \n",
       "4       1  "
      ],
      "text/html": "<div>\n<style scoped>\n    .dataframe tbody tr th:only-of-type {\n        vertical-align: middle;\n    }\n\n    .dataframe tbody tr th {\n        vertical-align: top;\n    }\n\n    .dataframe thead th {\n        text-align: right;\n    }\n</style>\n<table border=\"1\" class=\"dataframe\">\n  <thead>\n    <tr style=\"text-align: right;\">\n      <th></th>\n      <th>id</th>\n      <th>gender</th>\n      <th>age</th>\n      <th>hypertension</th>\n      <th>heart_disease</th>\n      <th>ever_married</th>\n      <th>work_type</th>\n      <th>Residence_type</th>\n      <th>avg_glucose_level</th>\n      <th>bmi</th>\n      <th>smoking_status</th>\n      <th>stroke</th>\n    </tr>\n  </thead>\n  <tbody>\n    <tr>\n      <th>0</th>\n      <td>9046</td>\n      <td>Male</td>\n      <td>67.0</td>\n      <td>0</td>\n      <td>1</td>\n      <td>Yes</td>\n      <td>Private</td>\n      <td>Urban</td>\n      <td>228.69</td>\n      <td>36.6</td>\n      <td>formerly smoked</td>\n      <td>1</td>\n    </tr>\n    <tr>\n      <th>1</th>\n      <td>51676</td>\n      <td>Female</td>\n      <td>61.0</td>\n      <td>0</td>\n      <td>0</td>\n      <td>Yes</td>\n      <td>Self-employed</td>\n      <td>Rural</td>\n      <td>202.21</td>\n      <td>NaN</td>\n      <td>never smoked</td>\n      <td>1</td>\n    </tr>\n    <tr>\n      <th>2</th>\n      <td>31112</td>\n      <td>Male</td>\n      <td>80.0</td>\n      <td>0</td>\n      <td>1</td>\n      <td>Yes</td>\n      <td>Private</td>\n      <td>Rural</td>\n      <td>105.92</td>\n      <td>32.5</td>\n      <td>never smoked</td>\n      <td>1</td>\n    </tr>\n    <tr>\n      <th>3</th>\n      <td>60182</td>\n      <td>Female</td>\n      <td>49.0</td>\n      <td>0</td>\n      <td>0</td>\n      <td>Yes</td>\n      <td>Private</td>\n      <td>Urban</td>\n      <td>171.23</td>\n      <td>34.4</td>\n      <td>smokes</td>\n      <td>1</td>\n    </tr>\n    <tr>\n      <th>4</th>\n      <td>1665</td>\n      <td>Female</td>\n      <td>79.0</td>\n      <td>1</td>\n      <td>0</td>\n      <td>Yes</td>\n      <td>Self-employed</td>\n      <td>Rural</td>\n      <td>174.12</td>\n      <td>24.0</td>\n      <td>never smoked</td>\n      <td>1</td>\n    </tr>\n  </tbody>\n</table>\n</div>"
     },
     "metadata": {},
     "execution_count": 12
    }
   ],
   "source": [
    "df2.head()\n"
   ]
  },
  {
   "cell_type": "code",
   "execution_count": 13,
   "metadata": {},
   "outputs": [
    {
     "output_type": "execute_result",
     "data": {
      "text/plain": [
       "201"
      ]
     },
     "metadata": {},
     "execution_count": 13
    }
   ],
   "source": [
    "df2['bmi'].isnull().sum()\n"
   ]
  },
  {
   "cell_type": "code",
   "execution_count": 14,
   "metadata": {},
   "outputs": [
    {
     "output_type": "execute_result",
     "data": {
      "text/plain": [
       "28.893236911794666"
      ]
     },
     "metadata": {},
     "execution_count": 14
    }
   ],
   "source": [
    "#Mean of bmi column\n",
    "np.mean(df2.bmi)"
   ]
  },
  {
   "cell_type": "code",
   "execution_count": 15,
   "metadata": {},
   "outputs": [],
   "source": [
    "#fill N/A values with mean value\n",
    "df2['bmi'].fillna(np.mean(df2.bmi), inplace=True)"
   ]
  },
  {
   "cell_type": "code",
   "execution_count": 16,
   "metadata": {},
   "outputs": [
    {
     "output_type": "execute_result",
     "data": {
      "text/plain": [
       "      id  gender   age  hypertension  heart_disease ever_married  \\\n",
       "0   9046    Male  67.0             0              1          Yes   \n",
       "1  51676  Female  61.0             0              0          Yes   \n",
       "2  31112    Male  80.0             0              1          Yes   \n",
       "3  60182  Female  49.0             0              0          Yes   \n",
       "4   1665  Female  79.0             1              0          Yes   \n",
       "\n",
       "       work_type Residence_type  avg_glucose_level        bmi  \\\n",
       "0        Private          Urban             228.69  36.600000   \n",
       "1  Self-employed          Rural             202.21  28.893237   \n",
       "2        Private          Rural             105.92  32.500000   \n",
       "3        Private          Urban             171.23  34.400000   \n",
       "4  Self-employed          Rural             174.12  24.000000   \n",
       "\n",
       "    smoking_status  stroke  \n",
       "0  formerly smoked       1  \n",
       "1     never smoked       1  \n",
       "2     never smoked       1  \n",
       "3           smokes       1  \n",
       "4     never smoked       1  "
      ],
      "text/html": "<div>\n<style scoped>\n    .dataframe tbody tr th:only-of-type {\n        vertical-align: middle;\n    }\n\n    .dataframe tbody tr th {\n        vertical-align: top;\n    }\n\n    .dataframe thead th {\n        text-align: right;\n    }\n</style>\n<table border=\"1\" class=\"dataframe\">\n  <thead>\n    <tr style=\"text-align: right;\">\n      <th></th>\n      <th>id</th>\n      <th>gender</th>\n      <th>age</th>\n      <th>hypertension</th>\n      <th>heart_disease</th>\n      <th>ever_married</th>\n      <th>work_type</th>\n      <th>Residence_type</th>\n      <th>avg_glucose_level</th>\n      <th>bmi</th>\n      <th>smoking_status</th>\n      <th>stroke</th>\n    </tr>\n  </thead>\n  <tbody>\n    <tr>\n      <th>0</th>\n      <td>9046</td>\n      <td>Male</td>\n      <td>67.0</td>\n      <td>0</td>\n      <td>1</td>\n      <td>Yes</td>\n      <td>Private</td>\n      <td>Urban</td>\n      <td>228.69</td>\n      <td>36.600000</td>\n      <td>formerly smoked</td>\n      <td>1</td>\n    </tr>\n    <tr>\n      <th>1</th>\n      <td>51676</td>\n      <td>Female</td>\n      <td>61.0</td>\n      <td>0</td>\n      <td>0</td>\n      <td>Yes</td>\n      <td>Self-employed</td>\n      <td>Rural</td>\n      <td>202.21</td>\n      <td>28.893237</td>\n      <td>never smoked</td>\n      <td>1</td>\n    </tr>\n    <tr>\n      <th>2</th>\n      <td>31112</td>\n      <td>Male</td>\n      <td>80.0</td>\n      <td>0</td>\n      <td>1</td>\n      <td>Yes</td>\n      <td>Private</td>\n      <td>Rural</td>\n      <td>105.92</td>\n      <td>32.500000</td>\n      <td>never smoked</td>\n      <td>1</td>\n    </tr>\n    <tr>\n      <th>3</th>\n      <td>60182</td>\n      <td>Female</td>\n      <td>49.0</td>\n      <td>0</td>\n      <td>0</td>\n      <td>Yes</td>\n      <td>Private</td>\n      <td>Urban</td>\n      <td>171.23</td>\n      <td>34.400000</td>\n      <td>smokes</td>\n      <td>1</td>\n    </tr>\n    <tr>\n      <th>4</th>\n      <td>1665</td>\n      <td>Female</td>\n      <td>79.0</td>\n      <td>1</td>\n      <td>0</td>\n      <td>Yes</td>\n      <td>Self-employed</td>\n      <td>Rural</td>\n      <td>174.12</td>\n      <td>24.000000</td>\n      <td>never smoked</td>\n      <td>1</td>\n    </tr>\n  </tbody>\n</table>\n</div>"
     },
     "metadata": {},
     "execution_count": 16
    }
   ],
   "source": [
    "#Second Matrix\n",
    "df2.head()"
   ]
  },
  {
   "cell_type": "code",
   "execution_count": 17,
   "metadata": {},
   "outputs": [
    {
     "output_type": "execute_result",
     "data": {
      "text/plain": [
       "0"
      ]
     },
     "metadata": {},
     "execution_count": 17
    }
   ],
   "source": [
    "#Checking if missing values still exists\n",
    "df2.bmi.isnull().sum()"
   ]
  },
  {
   "cell_type": "code",
   "execution_count": 18,
   "metadata": {},
   "outputs": [],
   "source": [
    "def onehot_encode(dff, column):\n",
    "    dff = dff.copy()\n",
    "    dummies = pd.get_dummies(dff[column], prefix = column) \n",
    "    dff = pd.concat([dff, dummies], axis=1)#Side by side (axis=1)\n",
    "    dff = dff.drop(column, axis=1)\n",
    "    return dff"
   ]
  },
  {
   "cell_type": "code",
   "execution_count": 19,
   "metadata": {},
   "outputs": [],
   "source": [
    "def preprocess_inputs(dff):\n",
    "    dff = dff.copy()\n",
    "    #Drop id column because its not needed\n",
    "    dff = dff.drop('id', axis =1)\n",
    "\n",
    "    #Binary encoding\n",
    "    dff['ever_married'] = dff['ever_married'].replace({'No': 0,'Yes':1})\n",
    "    dff['Residence_type'] = dff['Residence_type'].replace({'Rural': 0,'Urban':1})\n",
    "\n",
    "    #One-Hot encoding\n",
    "    for column in ['gender', 'work_type', 'smoking_status']:\n",
    "        dff= onehot_encode(dff, column=column)\n",
    "\n",
    "    #Split dff\n",
    "    y= dff['stroke']\n",
    "    X= dff.drop('stroke',axis=1) \n",
    "\n",
    "    #Train_Test_Split\n",
    "    X_train, X_test, y_train, y_test = train_test_split(X,y, train_size=0.75, shuffle=True, random_state=1)\n",
    "    \n",
    "    #KNN imputation\n",
    "    imputer = KNNImputer()\n",
    "    imputer.fit(X_train)\n",
    "    X_train = pd.DataFrame(imputer.transform(X_train), index=X_train.index, columns=X_train.columns)\n",
    "    X_test = pd.DataFrame(imputer.transform(X_test), index=X_test.index, columns=X_test.columns)\n",
    "\n",
    "    #Scale X\n",
    "    scaler = StandardScaler()\n",
    "    scaler.fit(X_train)\n",
    "    X_train = pd.DataFrame(scaler.transform(X_train), index=X_train.index, columns=X_train.columns)\n",
    "    X_test = pd.DataFrame(scaler.transform(X_test), index=X_test.index, columns=X_test.columns)\n",
    "        \n",
    "    return  X_train, X_test, y_train, y_test"
   ]
  },
  {
   "cell_type": "code",
   "execution_count": 20,
   "metadata": {},
   "outputs": [],
   "source": [
    "X_train, X_test, y_train, y_test = preprocess_inputs(df)\n"
   ]
  },
  {
   "cell_type": "code",
   "execution_count": 21,
   "metadata": {},
   "outputs": [
    {
     "output_type": "execute_result",
     "data": {
      "text/plain": [
       "           age  hypertension  heart_disease  ever_married  Residence_type  \\\n",
       "1914 -0.012400     -0.329843      -0.240181      0.721550       -1.012606   \n",
       "1751  0.961818     -0.329843      -0.240181      0.721550        0.987551   \n",
       "396   0.740405      3.031747      -0.240181      0.721550       -1.012606   \n",
       "1783 -1.827988     -0.329843      -0.240181     -1.385905       -1.012606   \n",
       "2361 -0.588074     -0.329843      -0.240181      0.721550        0.987551   \n",
       "...        ...           ...            ...           ...             ...   \n",
       "2895  0.120448     -0.329843      -0.240181      0.721550        0.987551   \n",
       "2763  0.076165     -0.329843      -0.240181      0.721550       -1.012606   \n",
       "905  -0.543792     -0.329843      -0.240181      0.721550       -1.012606   \n",
       "3980  0.076165     -0.329843      -0.240181      0.721550       -1.012606   \n",
       "235   1.094666     -0.329843      -0.240181      0.721550       -1.012606   \n",
       "\n",
       "      avg_glucose_level       bmi  gender_Female  gender_Male  gender_Other  \\\n",
       "1914          -0.611726 -0.012266      -1.182369     1.182369           0.0   \n",
       "1751          -0.369349 -0.102977       0.845759    -0.845759           0.0   \n",
       "396            2.385034  0.907800      -1.182369     1.182369           0.0   \n",
       "1783          -0.881304 -1.606184      -1.182369     1.182369           0.0   \n",
       "2361          -0.078320 -0.750911       0.845759    -0.845759           0.0   \n",
       "...                 ...       ...            ...          ...           ...   \n",
       "2895           0.713164  0.039569      -1.182369     1.182369           0.0   \n",
       "2763          -0.924207  0.389453       0.845759    -0.845759           0.0   \n",
       "905           -0.647110  0.855965       0.845759    -0.845759           0.0   \n",
       "3980           2.489637  3.369949       0.845759    -0.845759           0.0   \n",
       "235            2.333949  1.335437       0.845759    -0.845759           0.0   \n",
       "\n",
       "      work_type_Govt_job  work_type_Never_worked  work_type_Private  \\\n",
       "1914           -0.379766               -0.068698           0.865432   \n",
       "1751           -0.379766               -0.068698           0.865432   \n",
       "396            -0.379766               -0.068698           0.865432   \n",
       "1783           -0.379766               -0.068698          -1.155492   \n",
       "2361           -0.379766               -0.068698           0.865432   \n",
       "...                  ...                     ...                ...   \n",
       "2895           -0.379766               -0.068698           0.865432   \n",
       "2763           -0.379766               -0.068698           0.865432   \n",
       "905            -0.379766               -0.068698           0.865432   \n",
       "3980           -0.379766               -0.068698           0.865432   \n",
       "235            -0.379766               -0.068698           0.865432   \n",
       "\n",
       "      work_type_Self-employed  work_type_children  smoking_status_Unknown  \\\n",
       "1914                 -0.43977           -0.395797               -0.662147   \n",
       "1751                 -0.43977           -0.395797               -0.662147   \n",
       "396                  -0.43977           -0.395797               -0.662147   \n",
       "1783                 -0.43977            2.526545                1.510239   \n",
       "2361                 -0.43977           -0.395797                1.510239   \n",
       "...                       ...                 ...                     ...   \n",
       "2895                 -0.43977           -0.395797               -0.662147   \n",
       "2763                 -0.43977           -0.395797                1.510239   \n",
       "905                  -0.43977           -0.395797               -0.662147   \n",
       "3980                 -0.43977           -0.395797               -0.662147   \n",
       "235                  -0.43977           -0.395797                1.510239   \n",
       "\n",
       "      smoking_status_formerly smoked  smoking_status_never smoked  \\\n",
       "1914                       -0.459067                     1.315785   \n",
       "1751                        2.178331                    -0.760003   \n",
       "396                        -0.459067                     1.315785   \n",
       "1783                       -0.459067                    -0.760003   \n",
       "2361                       -0.459067                    -0.760003   \n",
       "...                              ...                          ...   \n",
       "2895                       -0.459067                     1.315785   \n",
       "2763                       -0.459067                    -0.760003   \n",
       "905                        -0.459067                     1.315785   \n",
       "3980                       -0.459067                    -0.760003   \n",
       "235                        -0.459067                    -0.760003   \n",
       "\n",
       "      smoking_status_smokes  \n",
       "1914              -0.428307  \n",
       "1751              -0.428307  \n",
       "396               -0.428307  \n",
       "1783              -0.428307  \n",
       "2361              -0.428307  \n",
       "...                     ...  \n",
       "2895              -0.428307  \n",
       "2763              -0.428307  \n",
       "905               -0.428307  \n",
       "3980               2.334776  \n",
       "235               -0.428307  \n",
       "\n",
       "[3832 rows x 19 columns]"
      ],
      "text/html": "<div>\n<style scoped>\n    .dataframe tbody tr th:only-of-type {\n        vertical-align: middle;\n    }\n\n    .dataframe tbody tr th {\n        vertical-align: top;\n    }\n\n    .dataframe thead th {\n        text-align: right;\n    }\n</style>\n<table border=\"1\" class=\"dataframe\">\n  <thead>\n    <tr style=\"text-align: right;\">\n      <th></th>\n      <th>age</th>\n      <th>hypertension</th>\n      <th>heart_disease</th>\n      <th>ever_married</th>\n      <th>Residence_type</th>\n      <th>avg_glucose_level</th>\n      <th>bmi</th>\n      <th>gender_Female</th>\n      <th>gender_Male</th>\n      <th>gender_Other</th>\n      <th>work_type_Govt_job</th>\n      <th>work_type_Never_worked</th>\n      <th>work_type_Private</th>\n      <th>work_type_Self-employed</th>\n      <th>work_type_children</th>\n      <th>smoking_status_Unknown</th>\n      <th>smoking_status_formerly smoked</th>\n      <th>smoking_status_never smoked</th>\n      <th>smoking_status_smokes</th>\n    </tr>\n  </thead>\n  <tbody>\n    <tr>\n      <th>1914</th>\n      <td>-0.012400</td>\n      <td>-0.329843</td>\n      <td>-0.240181</td>\n      <td>0.721550</td>\n      <td>-1.012606</td>\n      <td>-0.611726</td>\n      <td>-0.012266</td>\n      <td>-1.182369</td>\n      <td>1.182369</td>\n      <td>0.0</td>\n      <td>-0.379766</td>\n      <td>-0.068698</td>\n      <td>0.865432</td>\n      <td>-0.43977</td>\n      <td>-0.395797</td>\n      <td>-0.662147</td>\n      <td>-0.459067</td>\n      <td>1.315785</td>\n      <td>-0.428307</td>\n    </tr>\n    <tr>\n      <th>1751</th>\n      <td>0.961818</td>\n      <td>-0.329843</td>\n      <td>-0.240181</td>\n      <td>0.721550</td>\n      <td>0.987551</td>\n      <td>-0.369349</td>\n      <td>-0.102977</td>\n      <td>0.845759</td>\n      <td>-0.845759</td>\n      <td>0.0</td>\n      <td>-0.379766</td>\n      <td>-0.068698</td>\n      <td>0.865432</td>\n      <td>-0.43977</td>\n      <td>-0.395797</td>\n      <td>-0.662147</td>\n      <td>2.178331</td>\n      <td>-0.760003</td>\n      <td>-0.428307</td>\n    </tr>\n    <tr>\n      <th>396</th>\n      <td>0.740405</td>\n      <td>3.031747</td>\n      <td>-0.240181</td>\n      <td>0.721550</td>\n      <td>-1.012606</td>\n      <td>2.385034</td>\n      <td>0.907800</td>\n      <td>-1.182369</td>\n      <td>1.182369</td>\n      <td>0.0</td>\n      <td>-0.379766</td>\n      <td>-0.068698</td>\n      <td>0.865432</td>\n      <td>-0.43977</td>\n      <td>-0.395797</td>\n      <td>-0.662147</td>\n      <td>-0.459067</td>\n      <td>1.315785</td>\n      <td>-0.428307</td>\n    </tr>\n    <tr>\n      <th>1783</th>\n      <td>-1.827988</td>\n      <td>-0.329843</td>\n      <td>-0.240181</td>\n      <td>-1.385905</td>\n      <td>-1.012606</td>\n      <td>-0.881304</td>\n      <td>-1.606184</td>\n      <td>-1.182369</td>\n      <td>1.182369</td>\n      <td>0.0</td>\n      <td>-0.379766</td>\n      <td>-0.068698</td>\n      <td>-1.155492</td>\n      <td>-0.43977</td>\n      <td>2.526545</td>\n      <td>1.510239</td>\n      <td>-0.459067</td>\n      <td>-0.760003</td>\n      <td>-0.428307</td>\n    </tr>\n    <tr>\n      <th>2361</th>\n      <td>-0.588074</td>\n      <td>-0.329843</td>\n      <td>-0.240181</td>\n      <td>0.721550</td>\n      <td>0.987551</td>\n      <td>-0.078320</td>\n      <td>-0.750911</td>\n      <td>0.845759</td>\n      <td>-0.845759</td>\n      <td>0.0</td>\n      <td>-0.379766</td>\n      <td>-0.068698</td>\n      <td>0.865432</td>\n      <td>-0.43977</td>\n      <td>-0.395797</td>\n      <td>1.510239</td>\n      <td>-0.459067</td>\n      <td>-0.760003</td>\n      <td>-0.428307</td>\n    </tr>\n    <tr>\n      <th>...</th>\n      <td>...</td>\n      <td>...</td>\n      <td>...</td>\n      <td>...</td>\n      <td>...</td>\n      <td>...</td>\n      <td>...</td>\n      <td>...</td>\n      <td>...</td>\n      <td>...</td>\n      <td>...</td>\n      <td>...</td>\n      <td>...</td>\n      <td>...</td>\n      <td>...</td>\n      <td>...</td>\n      <td>...</td>\n      <td>...</td>\n      <td>...</td>\n    </tr>\n    <tr>\n      <th>2895</th>\n      <td>0.120448</td>\n      <td>-0.329843</td>\n      <td>-0.240181</td>\n      <td>0.721550</td>\n      <td>0.987551</td>\n      <td>0.713164</td>\n      <td>0.039569</td>\n      <td>-1.182369</td>\n      <td>1.182369</td>\n      <td>0.0</td>\n      <td>-0.379766</td>\n      <td>-0.068698</td>\n      <td>0.865432</td>\n      <td>-0.43977</td>\n      <td>-0.395797</td>\n      <td>-0.662147</td>\n      <td>-0.459067</td>\n      <td>1.315785</td>\n      <td>-0.428307</td>\n    </tr>\n    <tr>\n      <th>2763</th>\n      <td>0.076165</td>\n      <td>-0.329843</td>\n      <td>-0.240181</td>\n      <td>0.721550</td>\n      <td>-1.012606</td>\n      <td>-0.924207</td>\n      <td>0.389453</td>\n      <td>0.845759</td>\n      <td>-0.845759</td>\n      <td>0.0</td>\n      <td>-0.379766</td>\n      <td>-0.068698</td>\n      <td>0.865432</td>\n      <td>-0.43977</td>\n      <td>-0.395797</td>\n      <td>1.510239</td>\n      <td>-0.459067</td>\n      <td>-0.760003</td>\n      <td>-0.428307</td>\n    </tr>\n    <tr>\n      <th>905</th>\n      <td>-0.543792</td>\n      <td>-0.329843</td>\n      <td>-0.240181</td>\n      <td>0.721550</td>\n      <td>-1.012606</td>\n      <td>-0.647110</td>\n      <td>0.855965</td>\n      <td>0.845759</td>\n      <td>-0.845759</td>\n      <td>0.0</td>\n      <td>-0.379766</td>\n      <td>-0.068698</td>\n      <td>0.865432</td>\n      <td>-0.43977</td>\n      <td>-0.395797</td>\n      <td>-0.662147</td>\n      <td>-0.459067</td>\n      <td>1.315785</td>\n      <td>-0.428307</td>\n    </tr>\n    <tr>\n      <th>3980</th>\n      <td>0.076165</td>\n      <td>-0.329843</td>\n      <td>-0.240181</td>\n      <td>0.721550</td>\n      <td>-1.012606</td>\n      <td>2.489637</td>\n      <td>3.369949</td>\n      <td>0.845759</td>\n      <td>-0.845759</td>\n      <td>0.0</td>\n      <td>-0.379766</td>\n      <td>-0.068698</td>\n      <td>0.865432</td>\n      <td>-0.43977</td>\n      <td>-0.395797</td>\n      <td>-0.662147</td>\n      <td>-0.459067</td>\n      <td>-0.760003</td>\n      <td>2.334776</td>\n    </tr>\n    <tr>\n      <th>235</th>\n      <td>1.094666</td>\n      <td>-0.329843</td>\n      <td>-0.240181</td>\n      <td>0.721550</td>\n      <td>-1.012606</td>\n      <td>2.333949</td>\n      <td>1.335437</td>\n      <td>0.845759</td>\n      <td>-0.845759</td>\n      <td>0.0</td>\n      <td>-0.379766</td>\n      <td>-0.068698</td>\n      <td>0.865432</td>\n      <td>-0.43977</td>\n      <td>-0.395797</td>\n      <td>1.510239</td>\n      <td>-0.459067</td>\n      <td>-0.760003</td>\n      <td>-0.428307</td>\n    </tr>\n  </tbody>\n</table>\n<p>3832 rows × 19 columns</p>\n</div>"
     },
     "metadata": {},
     "execution_count": 21
    }
   ],
   "source": [
    "X_train\n",
    "#Before Scaling"
   ]
  },
  {
   "cell_type": "code",
   "execution_count": 22,
   "metadata": {},
   "outputs": [
    {
     "output_type": "execute_result",
     "data": {
      "text/plain": [
       "           age  hypertension  heart_disease  ever_married  Residence_type  \\\n",
       "1914 -0.012400     -0.329843      -0.240181      0.721550       -1.012606   \n",
       "1751  0.961818     -0.329843      -0.240181      0.721550        0.987551   \n",
       "396   0.740405      3.031747      -0.240181      0.721550       -1.012606   \n",
       "1783 -1.827988     -0.329843      -0.240181     -1.385905       -1.012606   \n",
       "2361 -0.588074     -0.329843      -0.240181      0.721550        0.987551   \n",
       "...        ...           ...            ...           ...             ...   \n",
       "2895  0.120448     -0.329843      -0.240181      0.721550        0.987551   \n",
       "2763  0.076165     -0.329843      -0.240181      0.721550       -1.012606   \n",
       "905  -0.543792     -0.329843      -0.240181      0.721550       -1.012606   \n",
       "3980  0.076165     -0.329843      -0.240181      0.721550       -1.012606   \n",
       "235   1.094666     -0.329843      -0.240181      0.721550       -1.012606   \n",
       "\n",
       "      avg_glucose_level       bmi  gender_Female  gender_Male  gender_Other  \\\n",
       "1914          -0.611726 -0.012266      -1.182369     1.182369           0.0   \n",
       "1751          -0.369349 -0.102977       0.845759    -0.845759           0.0   \n",
       "396            2.385034  0.907800      -1.182369     1.182369           0.0   \n",
       "1783          -0.881304 -1.606184      -1.182369     1.182369           0.0   \n",
       "2361          -0.078320 -0.750911       0.845759    -0.845759           0.0   \n",
       "...                 ...       ...            ...          ...           ...   \n",
       "2895           0.713164  0.039569      -1.182369     1.182369           0.0   \n",
       "2763          -0.924207  0.389453       0.845759    -0.845759           0.0   \n",
       "905           -0.647110  0.855965       0.845759    -0.845759           0.0   \n",
       "3980           2.489637  3.369949       0.845759    -0.845759           0.0   \n",
       "235            2.333949  1.335437       0.845759    -0.845759           0.0   \n",
       "\n",
       "      work_type_Govt_job  work_type_Never_worked  work_type_Private  \\\n",
       "1914           -0.379766               -0.068698           0.865432   \n",
       "1751           -0.379766               -0.068698           0.865432   \n",
       "396            -0.379766               -0.068698           0.865432   \n",
       "1783           -0.379766               -0.068698          -1.155492   \n",
       "2361           -0.379766               -0.068698           0.865432   \n",
       "...                  ...                     ...                ...   \n",
       "2895           -0.379766               -0.068698           0.865432   \n",
       "2763           -0.379766               -0.068698           0.865432   \n",
       "905            -0.379766               -0.068698           0.865432   \n",
       "3980           -0.379766               -0.068698           0.865432   \n",
       "235            -0.379766               -0.068698           0.865432   \n",
       "\n",
       "      work_type_Self-employed  work_type_children  smoking_status_Unknown  \\\n",
       "1914                 -0.43977           -0.395797               -0.662147   \n",
       "1751                 -0.43977           -0.395797               -0.662147   \n",
       "396                  -0.43977           -0.395797               -0.662147   \n",
       "1783                 -0.43977            2.526545                1.510239   \n",
       "2361                 -0.43977           -0.395797                1.510239   \n",
       "...                       ...                 ...                     ...   \n",
       "2895                 -0.43977           -0.395797               -0.662147   \n",
       "2763                 -0.43977           -0.395797                1.510239   \n",
       "905                  -0.43977           -0.395797               -0.662147   \n",
       "3980                 -0.43977           -0.395797               -0.662147   \n",
       "235                  -0.43977           -0.395797                1.510239   \n",
       "\n",
       "      smoking_status_formerly smoked  smoking_status_never smoked  \\\n",
       "1914                       -0.459067                     1.315785   \n",
       "1751                        2.178331                    -0.760003   \n",
       "396                        -0.459067                     1.315785   \n",
       "1783                       -0.459067                    -0.760003   \n",
       "2361                       -0.459067                    -0.760003   \n",
       "...                              ...                          ...   \n",
       "2895                       -0.459067                     1.315785   \n",
       "2763                       -0.459067                    -0.760003   \n",
       "905                        -0.459067                     1.315785   \n",
       "3980                       -0.459067                    -0.760003   \n",
       "235                        -0.459067                    -0.760003   \n",
       "\n",
       "      smoking_status_smokes  \n",
       "1914              -0.428307  \n",
       "1751              -0.428307  \n",
       "396               -0.428307  \n",
       "1783              -0.428307  \n",
       "2361              -0.428307  \n",
       "...                     ...  \n",
       "2895              -0.428307  \n",
       "2763              -0.428307  \n",
       "905               -0.428307  \n",
       "3980               2.334776  \n",
       "235               -0.428307  \n",
       "\n",
       "[3832 rows x 19 columns]"
      ],
      "text/html": "<div>\n<style scoped>\n    .dataframe tbody tr th:only-of-type {\n        vertical-align: middle;\n    }\n\n    .dataframe tbody tr th {\n        vertical-align: top;\n    }\n\n    .dataframe thead th {\n        text-align: right;\n    }\n</style>\n<table border=\"1\" class=\"dataframe\">\n  <thead>\n    <tr style=\"text-align: right;\">\n      <th></th>\n      <th>age</th>\n      <th>hypertension</th>\n      <th>heart_disease</th>\n      <th>ever_married</th>\n      <th>Residence_type</th>\n      <th>avg_glucose_level</th>\n      <th>bmi</th>\n      <th>gender_Female</th>\n      <th>gender_Male</th>\n      <th>gender_Other</th>\n      <th>work_type_Govt_job</th>\n      <th>work_type_Never_worked</th>\n      <th>work_type_Private</th>\n      <th>work_type_Self-employed</th>\n      <th>work_type_children</th>\n      <th>smoking_status_Unknown</th>\n      <th>smoking_status_formerly smoked</th>\n      <th>smoking_status_never smoked</th>\n      <th>smoking_status_smokes</th>\n    </tr>\n  </thead>\n  <tbody>\n    <tr>\n      <th>1914</th>\n      <td>-0.012400</td>\n      <td>-0.329843</td>\n      <td>-0.240181</td>\n      <td>0.721550</td>\n      <td>-1.012606</td>\n      <td>-0.611726</td>\n      <td>-0.012266</td>\n      <td>-1.182369</td>\n      <td>1.182369</td>\n      <td>0.0</td>\n      <td>-0.379766</td>\n      <td>-0.068698</td>\n      <td>0.865432</td>\n      <td>-0.43977</td>\n      <td>-0.395797</td>\n      <td>-0.662147</td>\n      <td>-0.459067</td>\n      <td>1.315785</td>\n      <td>-0.428307</td>\n    </tr>\n    <tr>\n      <th>1751</th>\n      <td>0.961818</td>\n      <td>-0.329843</td>\n      <td>-0.240181</td>\n      <td>0.721550</td>\n      <td>0.987551</td>\n      <td>-0.369349</td>\n      <td>-0.102977</td>\n      <td>0.845759</td>\n      <td>-0.845759</td>\n      <td>0.0</td>\n      <td>-0.379766</td>\n      <td>-0.068698</td>\n      <td>0.865432</td>\n      <td>-0.43977</td>\n      <td>-0.395797</td>\n      <td>-0.662147</td>\n      <td>2.178331</td>\n      <td>-0.760003</td>\n      <td>-0.428307</td>\n    </tr>\n    <tr>\n      <th>396</th>\n      <td>0.740405</td>\n      <td>3.031747</td>\n      <td>-0.240181</td>\n      <td>0.721550</td>\n      <td>-1.012606</td>\n      <td>2.385034</td>\n      <td>0.907800</td>\n      <td>-1.182369</td>\n      <td>1.182369</td>\n      <td>0.0</td>\n      <td>-0.379766</td>\n      <td>-0.068698</td>\n      <td>0.865432</td>\n      <td>-0.43977</td>\n      <td>-0.395797</td>\n      <td>-0.662147</td>\n      <td>-0.459067</td>\n      <td>1.315785</td>\n      <td>-0.428307</td>\n    </tr>\n    <tr>\n      <th>1783</th>\n      <td>-1.827988</td>\n      <td>-0.329843</td>\n      <td>-0.240181</td>\n      <td>-1.385905</td>\n      <td>-1.012606</td>\n      <td>-0.881304</td>\n      <td>-1.606184</td>\n      <td>-1.182369</td>\n      <td>1.182369</td>\n      <td>0.0</td>\n      <td>-0.379766</td>\n      <td>-0.068698</td>\n      <td>-1.155492</td>\n      <td>-0.43977</td>\n      <td>2.526545</td>\n      <td>1.510239</td>\n      <td>-0.459067</td>\n      <td>-0.760003</td>\n      <td>-0.428307</td>\n    </tr>\n    <tr>\n      <th>2361</th>\n      <td>-0.588074</td>\n      <td>-0.329843</td>\n      <td>-0.240181</td>\n      <td>0.721550</td>\n      <td>0.987551</td>\n      <td>-0.078320</td>\n      <td>-0.750911</td>\n      <td>0.845759</td>\n      <td>-0.845759</td>\n      <td>0.0</td>\n      <td>-0.379766</td>\n      <td>-0.068698</td>\n      <td>0.865432</td>\n      <td>-0.43977</td>\n      <td>-0.395797</td>\n      <td>1.510239</td>\n      <td>-0.459067</td>\n      <td>-0.760003</td>\n      <td>-0.428307</td>\n    </tr>\n    <tr>\n      <th>...</th>\n      <td>...</td>\n      <td>...</td>\n      <td>...</td>\n      <td>...</td>\n      <td>...</td>\n      <td>...</td>\n      <td>...</td>\n      <td>...</td>\n      <td>...</td>\n      <td>...</td>\n      <td>...</td>\n      <td>...</td>\n      <td>...</td>\n      <td>...</td>\n      <td>...</td>\n      <td>...</td>\n      <td>...</td>\n      <td>...</td>\n      <td>...</td>\n    </tr>\n    <tr>\n      <th>2895</th>\n      <td>0.120448</td>\n      <td>-0.329843</td>\n      <td>-0.240181</td>\n      <td>0.721550</td>\n      <td>0.987551</td>\n      <td>0.713164</td>\n      <td>0.039569</td>\n      <td>-1.182369</td>\n      <td>1.182369</td>\n      <td>0.0</td>\n      <td>-0.379766</td>\n      <td>-0.068698</td>\n      <td>0.865432</td>\n      <td>-0.43977</td>\n      <td>-0.395797</td>\n      <td>-0.662147</td>\n      <td>-0.459067</td>\n      <td>1.315785</td>\n      <td>-0.428307</td>\n    </tr>\n    <tr>\n      <th>2763</th>\n      <td>0.076165</td>\n      <td>-0.329843</td>\n      <td>-0.240181</td>\n      <td>0.721550</td>\n      <td>-1.012606</td>\n      <td>-0.924207</td>\n      <td>0.389453</td>\n      <td>0.845759</td>\n      <td>-0.845759</td>\n      <td>0.0</td>\n      <td>-0.379766</td>\n      <td>-0.068698</td>\n      <td>0.865432</td>\n      <td>-0.43977</td>\n      <td>-0.395797</td>\n      <td>1.510239</td>\n      <td>-0.459067</td>\n      <td>-0.760003</td>\n      <td>-0.428307</td>\n    </tr>\n    <tr>\n      <th>905</th>\n      <td>-0.543792</td>\n      <td>-0.329843</td>\n      <td>-0.240181</td>\n      <td>0.721550</td>\n      <td>-1.012606</td>\n      <td>-0.647110</td>\n      <td>0.855965</td>\n      <td>0.845759</td>\n      <td>-0.845759</td>\n      <td>0.0</td>\n      <td>-0.379766</td>\n      <td>-0.068698</td>\n      <td>0.865432</td>\n      <td>-0.43977</td>\n      <td>-0.395797</td>\n      <td>-0.662147</td>\n      <td>-0.459067</td>\n      <td>1.315785</td>\n      <td>-0.428307</td>\n    </tr>\n    <tr>\n      <th>3980</th>\n      <td>0.076165</td>\n      <td>-0.329843</td>\n      <td>-0.240181</td>\n      <td>0.721550</td>\n      <td>-1.012606</td>\n      <td>2.489637</td>\n      <td>3.369949</td>\n      <td>0.845759</td>\n      <td>-0.845759</td>\n      <td>0.0</td>\n      <td>-0.379766</td>\n      <td>-0.068698</td>\n      <td>0.865432</td>\n      <td>-0.43977</td>\n      <td>-0.395797</td>\n      <td>-0.662147</td>\n      <td>-0.459067</td>\n      <td>-0.760003</td>\n      <td>2.334776</td>\n    </tr>\n    <tr>\n      <th>235</th>\n      <td>1.094666</td>\n      <td>-0.329843</td>\n      <td>-0.240181</td>\n      <td>0.721550</td>\n      <td>-1.012606</td>\n      <td>2.333949</td>\n      <td>1.335437</td>\n      <td>0.845759</td>\n      <td>-0.845759</td>\n      <td>0.0</td>\n      <td>-0.379766</td>\n      <td>-0.068698</td>\n      <td>0.865432</td>\n      <td>-0.43977</td>\n      <td>-0.395797</td>\n      <td>1.510239</td>\n      <td>-0.459067</td>\n      <td>-0.760003</td>\n      <td>-0.428307</td>\n    </tr>\n  </tbody>\n</table>\n<p>3832 rows × 19 columns</p>\n</div>"
     },
     "metadata": {},
     "execution_count": 22
    }
   ],
   "source": [
    "X_train\n",
    "#After Scaling"
   ]
  },
  {
   "cell_type": "code",
   "execution_count": 23,
   "metadata": {},
   "outputs": [
    {
     "output_type": "execute_result",
     "data": {
      "text/plain": [
       "age                              -1.423125e-16\n",
       "hypertension                      3.108161e-16\n",
       "heart_disease                     3.178129e-16\n",
       "ever_married                     -4.845926e-16\n",
       "Residence_type                    2.490469e-16\n",
       "avg_glucose_level                 3.002701e-16\n",
       "bmi                              -2.031546e-16\n",
       "gender_Female                     2.284765e-16\n",
       "gender_Male                      -2.284765e-16\n",
       "gender_Other                      0.000000e+00\n",
       "work_type_Govt_job                1.646792e-16\n",
       "work_type_Never_worked           -1.911093e-16\n",
       "work_type_Private                 5.904579e-17\n",
       "work_type_Self-employed           4.863310e-16\n",
       "work_type_children                4.525492e-16\n",
       "smoking_status_Unknown           -3.545644e-16\n",
       "smoking_status_formerly smoked    4.742495e-16\n",
       "smoking_status_never smoked       1.292749e-16\n",
       "smoking_status_smokes            -1.406756e-16\n",
       "dtype: float64"
      ]
     },
     "metadata": {},
     "execution_count": 23
    }
   ],
   "source": [
    "X_train.mean()\n",
    "#Close to 0"
   ]
  },
  {
   "cell_type": "code",
   "execution_count": 24,
   "metadata": {},
   "outputs": [
    {
     "output_type": "execute_result",
     "data": {
      "text/plain": [
       "age                               1.000261\n",
       "hypertension                      1.000261\n",
       "heart_disease                     1.000261\n",
       "ever_married                      1.000261\n",
       "Residence_type                    1.000261\n",
       "avg_glucose_level                 1.000261\n",
       "bmi                               1.000261\n",
       "gender_Female                     1.000261\n",
       "gender_Male                       1.000261\n",
       "gender_Other                      0.000000\n",
       "work_type_Govt_job                1.000261\n",
       "work_type_Never_worked            1.000261\n",
       "work_type_Private                 1.000261\n",
       "work_type_Self-employed           1.000261\n",
       "work_type_children                1.000261\n",
       "smoking_status_Unknown            1.000261\n",
       "smoking_status_formerly smoked    1.000261\n",
       "smoking_status_never smoked       1.000261\n",
       "smoking_status_smokes             1.000261\n",
       "dtype: float64"
      ]
     },
     "metadata": {},
     "execution_count": 24
    }
   ],
   "source": [
    "X_train.var()\n",
    "#Close to 1\n",
    "#The 0 at \"gender_other\" happened because of OneHot encoding"
   ]
  },
  {
   "cell_type": "code",
   "execution_count": 25,
   "metadata": {},
   "outputs": [
    {
     "output_type": "execute_result",
     "data": {
      "text/plain": [
       "           age  hypertension  heart_disease  ever_married  Residence_type  \\\n",
       "4673 -0.056683     -0.329843      -0.240181      0.721550       -1.012606   \n",
       "3232  1.537492     -0.329843      -0.240181      0.721550        0.987551   \n",
       "3694 -0.676640     -0.329843      -0.240181     -1.385905        0.987551   \n",
       "1070  1.670340     -0.329843      -0.240181      0.721550       -1.012606   \n",
       "4163  0.386144     -0.329843      -0.240181      0.721550       -1.012606   \n",
       "...        ...           ...            ...           ...             ...   \n",
       "2490 -1.877585     -0.329843      -0.240181     -1.385905        0.987551   \n",
       "5078 -1.562292     -0.329843      -0.240181     -1.385905        0.987551   \n",
       "4879 -1.783705     -0.329843      -0.240181     -1.385905        0.987551   \n",
       "3125 -0.765205     -0.329843      -0.240181     -1.385905        0.987551   \n",
       "4694 -1.865185     -0.329843      -0.240181     -1.385905        0.987551   \n",
       "\n",
       "      avg_glucose_level       bmi  gender_Female  gender_Male  gender_Other  \\\n",
       "4673           0.164941  1.063304       0.845759    -0.845759           0.0   \n",
       "3232          -0.602217  0.143238       0.845759    -0.845759           0.0   \n",
       "3694          -0.713233 -0.465820      -1.182369     1.182369           0.0   \n",
       "1070           3.114155 -1.023043       0.845759    -0.845759           0.0   \n",
       "4163          -0.187346 -0.128894       0.845759    -0.845759           0.0   \n",
       "...                 ...       ...            ...          ...           ...   \n",
       "2490          -0.445424 -0.724993      -1.182369     1.182369           0.0   \n",
       "5078          -0.646004 -1.748729       0.845759    -0.845759           0.0   \n",
       "4879          -0.522825 -1.424762      -1.182369     1.182369           0.0   \n",
       "3125          -0.368023  0.946676       0.845759    -0.845759           0.0   \n",
       "4694          -0.431713 -2.033820       0.845759    -0.845759           0.0   \n",
       "\n",
       "      work_type_Govt_job  work_type_Never_worked  work_type_Private  \\\n",
       "4673            2.633201               -0.068698          -1.155492   \n",
       "3232           -0.379766               -0.068698           0.865432   \n",
       "3694           -0.379766               -0.068698           0.865432   \n",
       "1070           -0.379766               -0.068698          -1.155492   \n",
       "4163           -0.379766               -0.068698           0.865432   \n",
       "...                  ...                     ...                ...   \n",
       "2490           -0.379766               -0.068698          -1.155492   \n",
       "5078           -0.379766               -0.068698          -1.155492   \n",
       "4879           -0.379766               -0.068698          -1.155492   \n",
       "3125            2.633201               -0.068698          -1.155492   \n",
       "4694           -0.379766               -0.068698          -1.155492   \n",
       "\n",
       "      work_type_Self-employed  work_type_children  smoking_status_Unknown  \\\n",
       "4673                -0.439770           -0.395797               -0.662147   \n",
       "3232                -0.439770           -0.395797               -0.662147   \n",
       "3694                -0.439770           -0.395797               -0.662147   \n",
       "1070                 2.273916           -0.395797               -0.662147   \n",
       "4163                -0.439770           -0.395797                1.510239   \n",
       "...                       ...                 ...                     ...   \n",
       "2490                -0.439770            2.526545                1.510239   \n",
       "5078                -0.439770            2.526545                1.510239   \n",
       "4879                -0.439770            2.526545                1.510239   \n",
       "3125                -0.439770           -0.395797               -0.662147   \n",
       "4694                -0.439770            2.526545                1.510239   \n",
       "\n",
       "      smoking_status_formerly smoked  smoking_status_never smoked  \\\n",
       "4673                        2.178331                    -0.760003   \n",
       "3232                        2.178331                    -0.760003   \n",
       "3694                       -0.459067                    -0.760003   \n",
       "1070                       -0.459067                     1.315785   \n",
       "4163                       -0.459067                    -0.760003   \n",
       "...                              ...                          ...   \n",
       "2490                       -0.459067                    -0.760003   \n",
       "5078                       -0.459067                    -0.760003   \n",
       "4879                       -0.459067                    -0.760003   \n",
       "3125                       -0.459067                     1.315785   \n",
       "4694                       -0.459067                    -0.760003   \n",
       "\n",
       "      smoking_status_smokes  \n",
       "4673              -0.428307  \n",
       "3232              -0.428307  \n",
       "3694               2.334776  \n",
       "1070              -0.428307  \n",
       "4163              -0.428307  \n",
       "...                     ...  \n",
       "2490              -0.428307  \n",
       "5078              -0.428307  \n",
       "4879              -0.428307  \n",
       "3125              -0.428307  \n",
       "4694              -0.428307  \n",
       "\n",
       "[1278 rows x 19 columns]"
      ],
      "text/html": "<div>\n<style scoped>\n    .dataframe tbody tr th:only-of-type {\n        vertical-align: middle;\n    }\n\n    .dataframe tbody tr th {\n        vertical-align: top;\n    }\n\n    .dataframe thead th {\n        text-align: right;\n    }\n</style>\n<table border=\"1\" class=\"dataframe\">\n  <thead>\n    <tr style=\"text-align: right;\">\n      <th></th>\n      <th>age</th>\n      <th>hypertension</th>\n      <th>heart_disease</th>\n      <th>ever_married</th>\n      <th>Residence_type</th>\n      <th>avg_glucose_level</th>\n      <th>bmi</th>\n      <th>gender_Female</th>\n      <th>gender_Male</th>\n      <th>gender_Other</th>\n      <th>work_type_Govt_job</th>\n      <th>work_type_Never_worked</th>\n      <th>work_type_Private</th>\n      <th>work_type_Self-employed</th>\n      <th>work_type_children</th>\n      <th>smoking_status_Unknown</th>\n      <th>smoking_status_formerly smoked</th>\n      <th>smoking_status_never smoked</th>\n      <th>smoking_status_smokes</th>\n    </tr>\n  </thead>\n  <tbody>\n    <tr>\n      <th>4673</th>\n      <td>-0.056683</td>\n      <td>-0.329843</td>\n      <td>-0.240181</td>\n      <td>0.721550</td>\n      <td>-1.012606</td>\n      <td>0.164941</td>\n      <td>1.063304</td>\n      <td>0.845759</td>\n      <td>-0.845759</td>\n      <td>0.0</td>\n      <td>2.633201</td>\n      <td>-0.068698</td>\n      <td>-1.155492</td>\n      <td>-0.439770</td>\n      <td>-0.395797</td>\n      <td>-0.662147</td>\n      <td>2.178331</td>\n      <td>-0.760003</td>\n      <td>-0.428307</td>\n    </tr>\n    <tr>\n      <th>3232</th>\n      <td>1.537492</td>\n      <td>-0.329843</td>\n      <td>-0.240181</td>\n      <td>0.721550</td>\n      <td>0.987551</td>\n      <td>-0.602217</td>\n      <td>0.143238</td>\n      <td>0.845759</td>\n      <td>-0.845759</td>\n      <td>0.0</td>\n      <td>-0.379766</td>\n      <td>-0.068698</td>\n      <td>0.865432</td>\n      <td>-0.439770</td>\n      <td>-0.395797</td>\n      <td>-0.662147</td>\n      <td>2.178331</td>\n      <td>-0.760003</td>\n      <td>-0.428307</td>\n    </tr>\n    <tr>\n      <th>3694</th>\n      <td>-0.676640</td>\n      <td>-0.329843</td>\n      <td>-0.240181</td>\n      <td>-1.385905</td>\n      <td>0.987551</td>\n      <td>-0.713233</td>\n      <td>-0.465820</td>\n      <td>-1.182369</td>\n      <td>1.182369</td>\n      <td>0.0</td>\n      <td>-0.379766</td>\n      <td>-0.068698</td>\n      <td>0.865432</td>\n      <td>-0.439770</td>\n      <td>-0.395797</td>\n      <td>-0.662147</td>\n      <td>-0.459067</td>\n      <td>-0.760003</td>\n      <td>2.334776</td>\n    </tr>\n    <tr>\n      <th>1070</th>\n      <td>1.670340</td>\n      <td>-0.329843</td>\n      <td>-0.240181</td>\n      <td>0.721550</td>\n      <td>-1.012606</td>\n      <td>3.114155</td>\n      <td>-1.023043</td>\n      <td>0.845759</td>\n      <td>-0.845759</td>\n      <td>0.0</td>\n      <td>-0.379766</td>\n      <td>-0.068698</td>\n      <td>-1.155492</td>\n      <td>2.273916</td>\n      <td>-0.395797</td>\n      <td>-0.662147</td>\n      <td>-0.459067</td>\n      <td>1.315785</td>\n      <td>-0.428307</td>\n    </tr>\n    <tr>\n      <th>4163</th>\n      <td>0.386144</td>\n      <td>-0.329843</td>\n      <td>-0.240181</td>\n      <td>0.721550</td>\n      <td>-1.012606</td>\n      <td>-0.187346</td>\n      <td>-0.128894</td>\n      <td>0.845759</td>\n      <td>-0.845759</td>\n      <td>0.0</td>\n      <td>-0.379766</td>\n      <td>-0.068698</td>\n      <td>0.865432</td>\n      <td>-0.439770</td>\n      <td>-0.395797</td>\n      <td>1.510239</td>\n      <td>-0.459067</td>\n      <td>-0.760003</td>\n      <td>-0.428307</td>\n    </tr>\n    <tr>\n      <th>...</th>\n      <td>...</td>\n      <td>...</td>\n      <td>...</td>\n      <td>...</td>\n      <td>...</td>\n      <td>...</td>\n      <td>...</td>\n      <td>...</td>\n      <td>...</td>\n      <td>...</td>\n      <td>...</td>\n      <td>...</td>\n      <td>...</td>\n      <td>...</td>\n      <td>...</td>\n      <td>...</td>\n      <td>...</td>\n      <td>...</td>\n      <td>...</td>\n    </tr>\n    <tr>\n      <th>2490</th>\n      <td>-1.877585</td>\n      <td>-0.329843</td>\n      <td>-0.240181</td>\n      <td>-1.385905</td>\n      <td>0.987551</td>\n      <td>-0.445424</td>\n      <td>-0.724993</td>\n      <td>-1.182369</td>\n      <td>1.182369</td>\n      <td>0.0</td>\n      <td>-0.379766</td>\n      <td>-0.068698</td>\n      <td>-1.155492</td>\n      <td>-0.439770</td>\n      <td>2.526545</td>\n      <td>1.510239</td>\n      <td>-0.459067</td>\n      <td>-0.760003</td>\n      <td>-0.428307</td>\n    </tr>\n    <tr>\n      <th>5078</th>\n      <td>-1.562292</td>\n      <td>-0.329843</td>\n      <td>-0.240181</td>\n      <td>-1.385905</td>\n      <td>0.987551</td>\n      <td>-0.646004</td>\n      <td>-1.748729</td>\n      <td>0.845759</td>\n      <td>-0.845759</td>\n      <td>0.0</td>\n      <td>-0.379766</td>\n      <td>-0.068698</td>\n      <td>-1.155492</td>\n      <td>-0.439770</td>\n      <td>2.526545</td>\n      <td>1.510239</td>\n      <td>-0.459067</td>\n      <td>-0.760003</td>\n      <td>-0.428307</td>\n    </tr>\n    <tr>\n      <th>4879</th>\n      <td>-1.783705</td>\n      <td>-0.329843</td>\n      <td>-0.240181</td>\n      <td>-1.385905</td>\n      <td>0.987551</td>\n      <td>-0.522825</td>\n      <td>-1.424762</td>\n      <td>-1.182369</td>\n      <td>1.182369</td>\n      <td>0.0</td>\n      <td>-0.379766</td>\n      <td>-0.068698</td>\n      <td>-1.155492</td>\n      <td>-0.439770</td>\n      <td>2.526545</td>\n      <td>1.510239</td>\n      <td>-0.459067</td>\n      <td>-0.760003</td>\n      <td>-0.428307</td>\n    </tr>\n    <tr>\n      <th>3125</th>\n      <td>-0.765205</td>\n      <td>-0.329843</td>\n      <td>-0.240181</td>\n      <td>-1.385905</td>\n      <td>0.987551</td>\n      <td>-0.368023</td>\n      <td>0.946676</td>\n      <td>0.845759</td>\n      <td>-0.845759</td>\n      <td>0.0</td>\n      <td>2.633201</td>\n      <td>-0.068698</td>\n      <td>-1.155492</td>\n      <td>-0.439770</td>\n      <td>-0.395797</td>\n      <td>-0.662147</td>\n      <td>-0.459067</td>\n      <td>1.315785</td>\n      <td>-0.428307</td>\n    </tr>\n    <tr>\n      <th>4694</th>\n      <td>-1.865185</td>\n      <td>-0.329843</td>\n      <td>-0.240181</td>\n      <td>-1.385905</td>\n      <td>0.987551</td>\n      <td>-0.431713</td>\n      <td>-2.033820</td>\n      <td>0.845759</td>\n      <td>-0.845759</td>\n      <td>0.0</td>\n      <td>-0.379766</td>\n      <td>-0.068698</td>\n      <td>-1.155492</td>\n      <td>-0.439770</td>\n      <td>2.526545</td>\n      <td>1.510239</td>\n      <td>-0.459067</td>\n      <td>-0.760003</td>\n      <td>-0.428307</td>\n    </tr>\n  </tbody>\n</table>\n<p>1278 rows × 19 columns</p>\n</div>"
     },
     "metadata": {},
     "execution_count": 25
    }
   ],
   "source": [
    "X_test\n",
    "#before Scaling"
   ]
  },
  {
   "cell_type": "code",
   "execution_count": 26,
   "metadata": {},
   "outputs": [
    {
     "output_type": "execute_result",
     "data": {
      "text/plain": [
       "age                               0\n",
       "hypertension                      0\n",
       "heart_disease                     0\n",
       "ever_married                      0\n",
       "Residence_type                    0\n",
       "avg_glucose_level                 0\n",
       "bmi                               0\n",
       "gender_Female                     0\n",
       "gender_Male                       0\n",
       "gender_Other                      0\n",
       "work_type_Govt_job                0\n",
       "work_type_Never_worked            0\n",
       "work_type_Private                 0\n",
       "work_type_Self-employed           0\n",
       "work_type_children                0\n",
       "smoking_status_Unknown            0\n",
       "smoking_status_formerly smoked    0\n",
       "smoking_status_never smoked       0\n",
       "smoking_status_smokes             0\n",
       "dtype: int64"
      ]
     },
     "metadata": {},
     "execution_count": 26
    }
   ],
   "source": [
    "X_train.isna().sum()\n"
   ]
  },
  {
   "cell_type": "code",
   "execution_count": 27,
   "metadata": {},
   "outputs": [
    {
     "output_type": "execute_result",
     "data": {
      "text/plain": [
       "           age  hypertension  heart_disease  ever_married  Residence_type  \\\n",
       "4673 -0.056683     -0.329843      -0.240181      0.721550       -1.012606   \n",
       "3232  1.537492     -0.329843      -0.240181      0.721550        0.987551   \n",
       "3694 -0.676640     -0.329843      -0.240181     -1.385905        0.987551   \n",
       "1070  1.670340     -0.329843      -0.240181      0.721550       -1.012606   \n",
       "4163  0.386144     -0.329843      -0.240181      0.721550       -1.012606   \n",
       "...        ...           ...            ...           ...             ...   \n",
       "2490 -1.877585     -0.329843      -0.240181     -1.385905        0.987551   \n",
       "5078 -1.562292     -0.329843      -0.240181     -1.385905        0.987551   \n",
       "4879 -1.783705     -0.329843      -0.240181     -1.385905        0.987551   \n",
       "3125 -0.765205     -0.329843      -0.240181     -1.385905        0.987551   \n",
       "4694 -1.865185     -0.329843      -0.240181     -1.385905        0.987551   \n",
       "\n",
       "      avg_glucose_level       bmi  gender_Female  gender_Male  gender_Other  \\\n",
       "4673           0.164941  1.063304       0.845759    -0.845759           0.0   \n",
       "3232          -0.602217  0.143238       0.845759    -0.845759           0.0   \n",
       "3694          -0.713233 -0.465820      -1.182369     1.182369           0.0   \n",
       "1070           3.114155 -1.023043       0.845759    -0.845759           0.0   \n",
       "4163          -0.187346 -0.128894       0.845759    -0.845759           0.0   \n",
       "...                 ...       ...            ...          ...           ...   \n",
       "2490          -0.445424 -0.724993      -1.182369     1.182369           0.0   \n",
       "5078          -0.646004 -1.748729       0.845759    -0.845759           0.0   \n",
       "4879          -0.522825 -1.424762      -1.182369     1.182369           0.0   \n",
       "3125          -0.368023  0.946676       0.845759    -0.845759           0.0   \n",
       "4694          -0.431713 -2.033820       0.845759    -0.845759           0.0   \n",
       "\n",
       "      work_type_Govt_job  work_type_Never_worked  work_type_Private  \\\n",
       "4673            2.633201               -0.068698          -1.155492   \n",
       "3232           -0.379766               -0.068698           0.865432   \n",
       "3694           -0.379766               -0.068698           0.865432   \n",
       "1070           -0.379766               -0.068698          -1.155492   \n",
       "4163           -0.379766               -0.068698           0.865432   \n",
       "...                  ...                     ...                ...   \n",
       "2490           -0.379766               -0.068698          -1.155492   \n",
       "5078           -0.379766               -0.068698          -1.155492   \n",
       "4879           -0.379766               -0.068698          -1.155492   \n",
       "3125            2.633201               -0.068698          -1.155492   \n",
       "4694           -0.379766               -0.068698          -1.155492   \n",
       "\n",
       "      work_type_Self-employed  work_type_children  smoking_status_Unknown  \\\n",
       "4673                -0.439770           -0.395797               -0.662147   \n",
       "3232                -0.439770           -0.395797               -0.662147   \n",
       "3694                -0.439770           -0.395797               -0.662147   \n",
       "1070                 2.273916           -0.395797               -0.662147   \n",
       "4163                -0.439770           -0.395797                1.510239   \n",
       "...                       ...                 ...                     ...   \n",
       "2490                -0.439770            2.526545                1.510239   \n",
       "5078                -0.439770            2.526545                1.510239   \n",
       "4879                -0.439770            2.526545                1.510239   \n",
       "3125                -0.439770           -0.395797               -0.662147   \n",
       "4694                -0.439770            2.526545                1.510239   \n",
       "\n",
       "      smoking_status_formerly smoked  smoking_status_never smoked  \\\n",
       "4673                        2.178331                    -0.760003   \n",
       "3232                        2.178331                    -0.760003   \n",
       "3694                       -0.459067                    -0.760003   \n",
       "1070                       -0.459067                     1.315785   \n",
       "4163                       -0.459067                    -0.760003   \n",
       "...                              ...                          ...   \n",
       "2490                       -0.459067                    -0.760003   \n",
       "5078                       -0.459067                    -0.760003   \n",
       "4879                       -0.459067                    -0.760003   \n",
       "3125                       -0.459067                     1.315785   \n",
       "4694                       -0.459067                    -0.760003   \n",
       "\n",
       "      smoking_status_smokes  \n",
       "4673              -0.428307  \n",
       "3232              -0.428307  \n",
       "3694               2.334776  \n",
       "1070              -0.428307  \n",
       "4163              -0.428307  \n",
       "...                     ...  \n",
       "2490              -0.428307  \n",
       "5078              -0.428307  \n",
       "4879              -0.428307  \n",
       "3125              -0.428307  \n",
       "4694              -0.428307  \n",
       "\n",
       "[1278 rows x 19 columns]"
      ],
      "text/html": "<div>\n<style scoped>\n    .dataframe tbody tr th:only-of-type {\n        vertical-align: middle;\n    }\n\n    .dataframe tbody tr th {\n        vertical-align: top;\n    }\n\n    .dataframe thead th {\n        text-align: right;\n    }\n</style>\n<table border=\"1\" class=\"dataframe\">\n  <thead>\n    <tr style=\"text-align: right;\">\n      <th></th>\n      <th>age</th>\n      <th>hypertension</th>\n      <th>heart_disease</th>\n      <th>ever_married</th>\n      <th>Residence_type</th>\n      <th>avg_glucose_level</th>\n      <th>bmi</th>\n      <th>gender_Female</th>\n      <th>gender_Male</th>\n      <th>gender_Other</th>\n      <th>work_type_Govt_job</th>\n      <th>work_type_Never_worked</th>\n      <th>work_type_Private</th>\n      <th>work_type_Self-employed</th>\n      <th>work_type_children</th>\n      <th>smoking_status_Unknown</th>\n      <th>smoking_status_formerly smoked</th>\n      <th>smoking_status_never smoked</th>\n      <th>smoking_status_smokes</th>\n    </tr>\n  </thead>\n  <tbody>\n    <tr>\n      <th>4673</th>\n      <td>-0.056683</td>\n      <td>-0.329843</td>\n      <td>-0.240181</td>\n      <td>0.721550</td>\n      <td>-1.012606</td>\n      <td>0.164941</td>\n      <td>1.063304</td>\n      <td>0.845759</td>\n      <td>-0.845759</td>\n      <td>0.0</td>\n      <td>2.633201</td>\n      <td>-0.068698</td>\n      <td>-1.155492</td>\n      <td>-0.439770</td>\n      <td>-0.395797</td>\n      <td>-0.662147</td>\n      <td>2.178331</td>\n      <td>-0.760003</td>\n      <td>-0.428307</td>\n    </tr>\n    <tr>\n      <th>3232</th>\n      <td>1.537492</td>\n      <td>-0.329843</td>\n      <td>-0.240181</td>\n      <td>0.721550</td>\n      <td>0.987551</td>\n      <td>-0.602217</td>\n      <td>0.143238</td>\n      <td>0.845759</td>\n      <td>-0.845759</td>\n      <td>0.0</td>\n      <td>-0.379766</td>\n      <td>-0.068698</td>\n      <td>0.865432</td>\n      <td>-0.439770</td>\n      <td>-0.395797</td>\n      <td>-0.662147</td>\n      <td>2.178331</td>\n      <td>-0.760003</td>\n      <td>-0.428307</td>\n    </tr>\n    <tr>\n      <th>3694</th>\n      <td>-0.676640</td>\n      <td>-0.329843</td>\n      <td>-0.240181</td>\n      <td>-1.385905</td>\n      <td>0.987551</td>\n      <td>-0.713233</td>\n      <td>-0.465820</td>\n      <td>-1.182369</td>\n      <td>1.182369</td>\n      <td>0.0</td>\n      <td>-0.379766</td>\n      <td>-0.068698</td>\n      <td>0.865432</td>\n      <td>-0.439770</td>\n      <td>-0.395797</td>\n      <td>-0.662147</td>\n      <td>-0.459067</td>\n      <td>-0.760003</td>\n      <td>2.334776</td>\n    </tr>\n    <tr>\n      <th>1070</th>\n      <td>1.670340</td>\n      <td>-0.329843</td>\n      <td>-0.240181</td>\n      <td>0.721550</td>\n      <td>-1.012606</td>\n      <td>3.114155</td>\n      <td>-1.023043</td>\n      <td>0.845759</td>\n      <td>-0.845759</td>\n      <td>0.0</td>\n      <td>-0.379766</td>\n      <td>-0.068698</td>\n      <td>-1.155492</td>\n      <td>2.273916</td>\n      <td>-0.395797</td>\n      <td>-0.662147</td>\n      <td>-0.459067</td>\n      <td>1.315785</td>\n      <td>-0.428307</td>\n    </tr>\n    <tr>\n      <th>4163</th>\n      <td>0.386144</td>\n      <td>-0.329843</td>\n      <td>-0.240181</td>\n      <td>0.721550</td>\n      <td>-1.012606</td>\n      <td>-0.187346</td>\n      <td>-0.128894</td>\n      <td>0.845759</td>\n      <td>-0.845759</td>\n      <td>0.0</td>\n      <td>-0.379766</td>\n      <td>-0.068698</td>\n      <td>0.865432</td>\n      <td>-0.439770</td>\n      <td>-0.395797</td>\n      <td>1.510239</td>\n      <td>-0.459067</td>\n      <td>-0.760003</td>\n      <td>-0.428307</td>\n    </tr>\n    <tr>\n      <th>...</th>\n      <td>...</td>\n      <td>...</td>\n      <td>...</td>\n      <td>...</td>\n      <td>...</td>\n      <td>...</td>\n      <td>...</td>\n      <td>...</td>\n      <td>...</td>\n      <td>...</td>\n      <td>...</td>\n      <td>...</td>\n      <td>...</td>\n      <td>...</td>\n      <td>...</td>\n      <td>...</td>\n      <td>...</td>\n      <td>...</td>\n      <td>...</td>\n    </tr>\n    <tr>\n      <th>2490</th>\n      <td>-1.877585</td>\n      <td>-0.329843</td>\n      <td>-0.240181</td>\n      <td>-1.385905</td>\n      <td>0.987551</td>\n      <td>-0.445424</td>\n      <td>-0.724993</td>\n      <td>-1.182369</td>\n      <td>1.182369</td>\n      <td>0.0</td>\n      <td>-0.379766</td>\n      <td>-0.068698</td>\n      <td>-1.155492</td>\n      <td>-0.439770</td>\n      <td>2.526545</td>\n      <td>1.510239</td>\n      <td>-0.459067</td>\n      <td>-0.760003</td>\n      <td>-0.428307</td>\n    </tr>\n    <tr>\n      <th>5078</th>\n      <td>-1.562292</td>\n      <td>-0.329843</td>\n      <td>-0.240181</td>\n      <td>-1.385905</td>\n      <td>0.987551</td>\n      <td>-0.646004</td>\n      <td>-1.748729</td>\n      <td>0.845759</td>\n      <td>-0.845759</td>\n      <td>0.0</td>\n      <td>-0.379766</td>\n      <td>-0.068698</td>\n      <td>-1.155492</td>\n      <td>-0.439770</td>\n      <td>2.526545</td>\n      <td>1.510239</td>\n      <td>-0.459067</td>\n      <td>-0.760003</td>\n      <td>-0.428307</td>\n    </tr>\n    <tr>\n      <th>4879</th>\n      <td>-1.783705</td>\n      <td>-0.329843</td>\n      <td>-0.240181</td>\n      <td>-1.385905</td>\n      <td>0.987551</td>\n      <td>-0.522825</td>\n      <td>-1.424762</td>\n      <td>-1.182369</td>\n      <td>1.182369</td>\n      <td>0.0</td>\n      <td>-0.379766</td>\n      <td>-0.068698</td>\n      <td>-1.155492</td>\n      <td>-0.439770</td>\n      <td>2.526545</td>\n      <td>1.510239</td>\n      <td>-0.459067</td>\n      <td>-0.760003</td>\n      <td>-0.428307</td>\n    </tr>\n    <tr>\n      <th>3125</th>\n      <td>-0.765205</td>\n      <td>-0.329843</td>\n      <td>-0.240181</td>\n      <td>-1.385905</td>\n      <td>0.987551</td>\n      <td>-0.368023</td>\n      <td>0.946676</td>\n      <td>0.845759</td>\n      <td>-0.845759</td>\n      <td>0.0</td>\n      <td>2.633201</td>\n      <td>-0.068698</td>\n      <td>-1.155492</td>\n      <td>-0.439770</td>\n      <td>-0.395797</td>\n      <td>-0.662147</td>\n      <td>-0.459067</td>\n      <td>1.315785</td>\n      <td>-0.428307</td>\n    </tr>\n    <tr>\n      <th>4694</th>\n      <td>-1.865185</td>\n      <td>-0.329843</td>\n      <td>-0.240181</td>\n      <td>-1.385905</td>\n      <td>0.987551</td>\n      <td>-0.431713</td>\n      <td>-2.033820</td>\n      <td>0.845759</td>\n      <td>-0.845759</td>\n      <td>0.0</td>\n      <td>-0.379766</td>\n      <td>-0.068698</td>\n      <td>-1.155492</td>\n      <td>-0.439770</td>\n      <td>2.526545</td>\n      <td>1.510239</td>\n      <td>-0.459067</td>\n      <td>-0.760003</td>\n      <td>-0.428307</td>\n    </tr>\n  </tbody>\n</table>\n<p>1278 rows × 19 columns</p>\n</div>"
     },
     "metadata": {},
     "execution_count": 27
    }
   ],
   "source": [
    "X_test"
   ]
  },
  {
   "cell_type": "code",
   "execution_count": 28,
   "metadata": {},
   "outputs": [
    {
     "output_type": "execute_result",
     "data": {
      "text/plain": [
       "1914    0\n",
       "1751    0\n",
       "396     0\n",
       "1783    0\n",
       "2361    0\n",
       "       ..\n",
       "2895    0\n",
       "2763    0\n",
       "905     0\n",
       "3980    0\n",
       "235     1\n",
       "Name: stroke, Length: 3832, dtype: int64"
      ]
     },
     "metadata": {},
     "execution_count": 28
    }
   ],
   "source": [
    "y_train"
   ]
  },
  {
   "cell_type": "code",
   "execution_count": 29,
   "metadata": {},
   "outputs": [
    {
     "output_type": "execute_result",
     "data": {
      "text/plain": [
       "4673    0\n",
       "3232    0\n",
       "3694    0\n",
       "1070    0\n",
       "4163    0\n",
       "       ..\n",
       "2490    0\n",
       "5078    0\n",
       "4879    0\n",
       "3125    0\n",
       "4694    0\n",
       "Name: stroke, Length: 1278, dtype: int64"
      ]
     },
     "metadata": {},
     "execution_count": 29
    }
   ],
   "source": [
    "y_test"
   ]
  },
  {
   "cell_type": "code",
   "execution_count": 30,
   "metadata": {},
   "outputs": [
    {
     "output_type": "error",
     "ename": "NameError",
     "evalue": "name 'X' is not defined",
     "traceback": [
      "\u001b[1;31m---------------------------------------------------------------------------\u001b[0m",
      "\u001b[1;31mNameError\u001b[0m                                 Traceback (most recent call last)",
      "\u001b[1;32m<ipython-input-30-f300066127c3>\u001b[0m in \u001b[0;36m<module>\u001b[1;34m\u001b[0m\n\u001b[1;32m----> 1\u001b[1;33m \u001b[1;33m{\u001b[0m\u001b[0mcolumn\u001b[0m\u001b[1;33m:\u001b[0m \u001b[0mlen\u001b[0m\u001b[1;33m(\u001b[0m\u001b[0mX\u001b[0m\u001b[1;33m[\u001b[0m\u001b[0mcolumn\u001b[0m\u001b[1;33m]\u001b[0m\u001b[1;33m.\u001b[0m\u001b[0munique\u001b[0m\u001b[1;33m(\u001b[0m\u001b[1;33m)\u001b[0m\u001b[1;33m)\u001b[0m\u001b[1;32mfor\u001b[0m \u001b[0mcolumn\u001b[0m \u001b[1;32min\u001b[0m \u001b[0mX\u001b[0m\u001b[1;33m.\u001b[0m\u001b[0mselect_dtypes\u001b[0m\u001b[1;33m(\u001b[0m\u001b[1;34m'object'\u001b[0m\u001b[1;33m)\u001b[0m\u001b[1;33m.\u001b[0m\u001b[0mcolumns\u001b[0m\u001b[1;33m}\u001b[0m\u001b[1;33m\u001b[0m\u001b[1;33m\u001b[0m\u001b[0m\n\u001b[0m\u001b[0;32m      2\u001b[0m \u001b[1;31m#We will use binary encoding for ever_married and Residence_type because of the 2 different values\u001b[0m\u001b[1;33m\u001b[0m\u001b[1;33m\u001b[0m\u001b[1;33m\u001b[0m\u001b[0m\n\u001b[0;32m      3\u001b[0m \u001b[1;31m#We will use OneHote Encoding for the rest\u001b[0m\u001b[1;33m\u001b[0m\u001b[1;33m\u001b[0m\u001b[1;33m\u001b[0m\u001b[0m\n",
      "\u001b[1;31mNameError\u001b[0m: name 'X' is not defined"
     ]
    }
   ],
   "source": [
    "{column: len(X[column].unique())for column in X.select_dtypes('object').columns}\n",
    "#We will use binary encoding for ever_married and Residence_type because of the 2 different values\n",
    "#We will use OneHote Encoding for the rest"
   ]
  },
  {
   "cell_type": "code",
   "execution_count": null,
   "metadata": {},
   "outputs": [],
   "source": [
    "#For the OneHote econding Example\n",
    "pd.get_dummies(X['work_type'],prefix='work_type')\n"
   ]
  },
  {
   "cell_type": "code",
   "execution_count": null,
   "metadata": {},
   "outputs": [],
   "source": []
  }
 ]
}