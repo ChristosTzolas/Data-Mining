{
 "metadata": {
  "language_info": {
   "codemirror_mode": {
    "name": "ipython",
    "version": 3
   },
   "file_extension": ".py",
   "mimetype": "text/x-python",
   "name": "python",
   "nbconvert_exporter": "python",
   "pygments_lexer": "ipython3",
   "version": "3.8.5"
  },
  "orig_nbformat": 2,
  "kernelspec": {
   "name": "python3",
   "display_name": "Python 3.8.5 64-bit ('base': conda)"
  },
  "interpreter": {
   "hash": "ff6732f27a6d6303dd8e8a9dcd372dcfdb44a9e37eb23b5cce4a12d01a644d06"
  }
 },
 "nbformat": 4,
 "nbformat_minor": 2,
 "cells": [
  {
   "source": [
    "LIBRARIES"
   ],
   "cell_type": "markdown",
   "metadata": {}
  },
  {
   "cell_type": "code",
   "execution_count": 34,
   "metadata": {},
   "outputs": [],
   "source": [
    "#libraries\n",
    "import numpy as np #Allows Linear Algebra\n",
    "import pandas as pd #To handle csv file\n",
    "from matplotlib import pyplot as plt #Allows ploting charts to be used\n",
    "import seaborn as sns #Allows heating maps to be used\n",
    "from sklearn.pipeline import Pipeline\n",
    "from sklearn.ensemble import RandomForestClassifier #For training values and predict values\n",
    "from sklearn.model_selection import GridSearchCV \n",
    "from sklearn.model_selection import KFold #helps train_test_split to split data\n",
    "from sklearn.model_selection import train_test_split #Used for X-y_train and X-y_test\n",
    "from sklearn.metrics import f1_score,precision_score,recall_score #Prediction score\n",
    "from sklearn.impute import KNNImputer #Allows to use Knn Imputer\n",
    "from sklearn.preprocessing import StandardScaler \n",
    "from sklearn.preprocessing import MinMaxScaler #Allows to turn values into 0 and 1\n",
    "from sklearn.preprocessing import LabelEncoder\n",
    "from sklearn.linear_model import LinearRegression #Allows to use Linear Regression\n",
    "from sklearn.metrics import accuracy_score\n",
    "from imblearn import over_sampling\n",
    "from imblearn.over_sampling import SMOTE\n",
    "\n",
    "sns.set(style='darkgrid')"
   ]
  },
  {
   "source": [
    "LOAD DATASET"
   ],
   "cell_type": "markdown",
   "metadata": {}
  },
  {
   "cell_type": "code",
   "execution_count": 35,
   "metadata": {},
   "outputs": [
    {
     "output_type": "execute_result",
     "data": {
      "text/plain": [
       "      id  gender   age  hypertension  heart_disease ever_married  \\\n",
       "0   9046    Male  67.0             0              1          Yes   \n",
       "1  51676  Female  61.0             0              0          Yes   \n",
       "2  31112    Male  80.0             0              1          Yes   \n",
       "3  60182  Female  49.0             0              0          Yes   \n",
       "4   1665  Female  79.0             1              0          Yes   \n",
       "\n",
       "       work_type Residence_type  avg_glucose_level   bmi   smoking_status  \\\n",
       "0        Private          Urban             228.69  36.6  formerly smoked   \n",
       "1  Self-employed          Rural             202.21   NaN     never smoked   \n",
       "2        Private          Rural             105.92  32.5     never smoked   \n",
       "3        Private          Urban             171.23  34.4           smokes   \n",
       "4  Self-employed          Rural             174.12  24.0     never smoked   \n",
       "\n",
       "   stroke  \n",
       "0       1  \n",
       "1       1  \n",
       "2       1  \n",
       "3       1  \n",
       "4       1  "
      ],
      "text/html": "<div>\n<style scoped>\n    .dataframe tbody tr th:only-of-type {\n        vertical-align: middle;\n    }\n\n    .dataframe tbody tr th {\n        vertical-align: top;\n    }\n\n    .dataframe thead th {\n        text-align: right;\n    }\n</style>\n<table border=\"1\" class=\"dataframe\">\n  <thead>\n    <tr style=\"text-align: right;\">\n      <th></th>\n      <th>id</th>\n      <th>gender</th>\n      <th>age</th>\n      <th>hypertension</th>\n      <th>heart_disease</th>\n      <th>ever_married</th>\n      <th>work_type</th>\n      <th>Residence_type</th>\n      <th>avg_glucose_level</th>\n      <th>bmi</th>\n      <th>smoking_status</th>\n      <th>stroke</th>\n    </tr>\n  </thead>\n  <tbody>\n    <tr>\n      <th>0</th>\n      <td>9046</td>\n      <td>Male</td>\n      <td>67.0</td>\n      <td>0</td>\n      <td>1</td>\n      <td>Yes</td>\n      <td>Private</td>\n      <td>Urban</td>\n      <td>228.69</td>\n      <td>36.6</td>\n      <td>formerly smoked</td>\n      <td>1</td>\n    </tr>\n    <tr>\n      <th>1</th>\n      <td>51676</td>\n      <td>Female</td>\n      <td>61.0</td>\n      <td>0</td>\n      <td>0</td>\n      <td>Yes</td>\n      <td>Self-employed</td>\n      <td>Rural</td>\n      <td>202.21</td>\n      <td>NaN</td>\n      <td>never smoked</td>\n      <td>1</td>\n    </tr>\n    <tr>\n      <th>2</th>\n      <td>31112</td>\n      <td>Male</td>\n      <td>80.0</td>\n      <td>0</td>\n      <td>1</td>\n      <td>Yes</td>\n      <td>Private</td>\n      <td>Rural</td>\n      <td>105.92</td>\n      <td>32.5</td>\n      <td>never smoked</td>\n      <td>1</td>\n    </tr>\n    <tr>\n      <th>3</th>\n      <td>60182</td>\n      <td>Female</td>\n      <td>49.0</td>\n      <td>0</td>\n      <td>0</td>\n      <td>Yes</td>\n      <td>Private</td>\n      <td>Urban</td>\n      <td>171.23</td>\n      <td>34.4</td>\n      <td>smokes</td>\n      <td>1</td>\n    </tr>\n    <tr>\n      <th>4</th>\n      <td>1665</td>\n      <td>Female</td>\n      <td>79.0</td>\n      <td>1</td>\n      <td>0</td>\n      <td>Yes</td>\n      <td>Self-employed</td>\n      <td>Rural</td>\n      <td>174.12</td>\n      <td>24.0</td>\n      <td>never smoked</td>\n      <td>1</td>\n    </tr>\n  </tbody>\n</table>\n</div>"
     },
     "metadata": {},
     "execution_count": 35
    }
   ],
   "source": [
    "#Load the file we want to work on as a dataframe\n",
    "dataset = pd.read_csv(\"healthcare-dataset-stroke-data.csv\") \n",
    "#Show dataset\n",
    "dataset.head() #.head() used to show the dataframe"
   ]
  },
  {
   "cell_type": "code",
   "execution_count": 36,
   "metadata": {},
   "outputs": [
    {
     "output_type": "execute_result",
     "data": {
      "text/plain": [
       "id                     0\n",
       "gender                 0\n",
       "age                    0\n",
       "hypertension           0\n",
       "heart_disease          0\n",
       "ever_married           0\n",
       "work_type              0\n",
       "Residence_type         0\n",
       "avg_glucose_level      0\n",
       "bmi                  201\n",
       "smoking_status         0\n",
       "stroke                 0\n",
       "dtype: int64"
      ]
     },
     "metadata": {},
     "execution_count": 36
    }
   ],
   "source": [
    "#Checking for missing values (NaN)\n",
    "dataset.isnull().sum()"
   ]
  },
  {
   "cell_type": "code",
   "execution_count": 37,
   "metadata": {},
   "outputs": [
    {
     "output_type": "execute_result",
     "data": {
      "text/plain": [
       "      id gender  age  hypertension  heart_disease ever_married work_type  \\\n",
       "0    NaN    NaN  NaN           NaN            NaN          NaN       NaN   \n",
       "1    NaN    NaN  NaN           NaN            NaN          NaN       NaN   \n",
       "2    NaN    NaN  NaN           NaN            NaN          NaN       NaN   \n",
       "3    NaN    NaN  NaN           NaN            NaN          NaN       NaN   \n",
       "4    NaN    NaN  NaN           NaN            NaN          NaN       NaN   \n",
       "...   ..    ...  ...           ...            ...          ...       ...   \n",
       "5105 NaN    NaN  NaN           NaN            NaN          NaN       NaN   \n",
       "5106 NaN    NaN  NaN           NaN            NaN          NaN       NaN   \n",
       "5107 NaN    NaN  NaN           NaN            NaN          NaN       NaN   \n",
       "5108 NaN    NaN  NaN           NaN            NaN          NaN       NaN   \n",
       "5109 NaN    NaN  NaN           NaN            NaN          NaN       NaN   \n",
       "\n",
       "     Residence_type  avg_glucose_level  bmi smoking_status  stroke  \n",
       "0               NaN                NaN  NaN            NaN     NaN  \n",
       "1               NaN                NaN  NaN            NaN     NaN  \n",
       "2               NaN                NaN  NaN            NaN     NaN  \n",
       "3               NaN                NaN  NaN            NaN     NaN  \n",
       "4               NaN                NaN  NaN            NaN     NaN  \n",
       "...             ...                ...  ...            ...     ...  \n",
       "5105            NaN                NaN  NaN            NaN     NaN  \n",
       "5106            NaN                NaN  NaN            NaN     NaN  \n",
       "5107            NaN                NaN  NaN            NaN     NaN  \n",
       "5108            NaN                NaN  NaN            NaN     NaN  \n",
       "5109            NaN                NaN  NaN        Unknown     NaN  \n",
       "\n",
       "[5110 rows x 12 columns]"
      ],
      "text/html": "<div>\n<style scoped>\n    .dataframe tbody tr th:only-of-type {\n        vertical-align: middle;\n    }\n\n    .dataframe tbody tr th {\n        vertical-align: top;\n    }\n\n    .dataframe thead th {\n        text-align: right;\n    }\n</style>\n<table border=\"1\" class=\"dataframe\">\n  <thead>\n    <tr style=\"text-align: right;\">\n      <th></th>\n      <th>id</th>\n      <th>gender</th>\n      <th>age</th>\n      <th>hypertension</th>\n      <th>heart_disease</th>\n      <th>ever_married</th>\n      <th>work_type</th>\n      <th>Residence_type</th>\n      <th>avg_glucose_level</th>\n      <th>bmi</th>\n      <th>smoking_status</th>\n      <th>stroke</th>\n    </tr>\n  </thead>\n  <tbody>\n    <tr>\n      <th>0</th>\n      <td>NaN</td>\n      <td>NaN</td>\n      <td>NaN</td>\n      <td>NaN</td>\n      <td>NaN</td>\n      <td>NaN</td>\n      <td>NaN</td>\n      <td>NaN</td>\n      <td>NaN</td>\n      <td>NaN</td>\n      <td>NaN</td>\n      <td>NaN</td>\n    </tr>\n    <tr>\n      <th>1</th>\n      <td>NaN</td>\n      <td>NaN</td>\n      <td>NaN</td>\n      <td>NaN</td>\n      <td>NaN</td>\n      <td>NaN</td>\n      <td>NaN</td>\n      <td>NaN</td>\n      <td>NaN</td>\n      <td>NaN</td>\n      <td>NaN</td>\n      <td>NaN</td>\n    </tr>\n    <tr>\n      <th>2</th>\n      <td>NaN</td>\n      <td>NaN</td>\n      <td>NaN</td>\n      <td>NaN</td>\n      <td>NaN</td>\n      <td>NaN</td>\n      <td>NaN</td>\n      <td>NaN</td>\n      <td>NaN</td>\n      <td>NaN</td>\n      <td>NaN</td>\n      <td>NaN</td>\n    </tr>\n    <tr>\n      <th>3</th>\n      <td>NaN</td>\n      <td>NaN</td>\n      <td>NaN</td>\n      <td>NaN</td>\n      <td>NaN</td>\n      <td>NaN</td>\n      <td>NaN</td>\n      <td>NaN</td>\n      <td>NaN</td>\n      <td>NaN</td>\n      <td>NaN</td>\n      <td>NaN</td>\n    </tr>\n    <tr>\n      <th>4</th>\n      <td>NaN</td>\n      <td>NaN</td>\n      <td>NaN</td>\n      <td>NaN</td>\n      <td>NaN</td>\n      <td>NaN</td>\n      <td>NaN</td>\n      <td>NaN</td>\n      <td>NaN</td>\n      <td>NaN</td>\n      <td>NaN</td>\n      <td>NaN</td>\n    </tr>\n    <tr>\n      <th>...</th>\n      <td>...</td>\n      <td>...</td>\n      <td>...</td>\n      <td>...</td>\n      <td>...</td>\n      <td>...</td>\n      <td>...</td>\n      <td>...</td>\n      <td>...</td>\n      <td>...</td>\n      <td>...</td>\n      <td>...</td>\n    </tr>\n    <tr>\n      <th>5105</th>\n      <td>NaN</td>\n      <td>NaN</td>\n      <td>NaN</td>\n      <td>NaN</td>\n      <td>NaN</td>\n      <td>NaN</td>\n      <td>NaN</td>\n      <td>NaN</td>\n      <td>NaN</td>\n      <td>NaN</td>\n      <td>NaN</td>\n      <td>NaN</td>\n    </tr>\n    <tr>\n      <th>5106</th>\n      <td>NaN</td>\n      <td>NaN</td>\n      <td>NaN</td>\n      <td>NaN</td>\n      <td>NaN</td>\n      <td>NaN</td>\n      <td>NaN</td>\n      <td>NaN</td>\n      <td>NaN</td>\n      <td>NaN</td>\n      <td>NaN</td>\n      <td>NaN</td>\n    </tr>\n    <tr>\n      <th>5107</th>\n      <td>NaN</td>\n      <td>NaN</td>\n      <td>NaN</td>\n      <td>NaN</td>\n      <td>NaN</td>\n      <td>NaN</td>\n      <td>NaN</td>\n      <td>NaN</td>\n      <td>NaN</td>\n      <td>NaN</td>\n      <td>NaN</td>\n      <td>NaN</td>\n    </tr>\n    <tr>\n      <th>5108</th>\n      <td>NaN</td>\n      <td>NaN</td>\n      <td>NaN</td>\n      <td>NaN</td>\n      <td>NaN</td>\n      <td>NaN</td>\n      <td>NaN</td>\n      <td>NaN</td>\n      <td>NaN</td>\n      <td>NaN</td>\n      <td>NaN</td>\n      <td>NaN</td>\n    </tr>\n    <tr>\n      <th>5109</th>\n      <td>NaN</td>\n      <td>NaN</td>\n      <td>NaN</td>\n      <td>NaN</td>\n      <td>NaN</td>\n      <td>NaN</td>\n      <td>NaN</td>\n      <td>NaN</td>\n      <td>NaN</td>\n      <td>NaN</td>\n      <td>Unknown</td>\n      <td>NaN</td>\n    </tr>\n  </tbody>\n</table>\n<p>5110 rows × 12 columns</p>\n</div>"
     },
     "metadata": {},
     "execution_count": 37
    }
   ],
   "source": [
    "#Checking for 'Unknown' values\n",
    "dataset[dataset == 'Unknown']"
   ]
  },
  {
   "source": [
    "CONVERT BOTH NON-NUMERIAL AND NUMERIAL VALUES INTO ONLY NUMERIAL VALUES"
   ],
   "cell_type": "markdown",
   "metadata": {}
  },
  {
   "cell_type": "code",
   "execution_count": 38,
   "metadata": {},
   "outputs": [
    {
     "output_type": "execute_result",
     "data": {
      "text/plain": [
       "         id  gender   age  hypertension  heart_disease ever_married  \\\n",
       "0      9046    Male  67.0             0              1          Yes   \n",
       "1     51676  Female  61.0             0              0          Yes   \n",
       "2     31112    Male  80.0             0              1          Yes   \n",
       "3     60182  Female  49.0             0              0          Yes   \n",
       "4      1665  Female  79.0             1              0          Yes   \n",
       "...     ...     ...   ...           ...            ...          ...   \n",
       "5105  18234  Female  80.0             1              0          Yes   \n",
       "5106  44873  Female  81.0             0              0          Yes   \n",
       "5107  19723  Female  35.0             0              0          Yes   \n",
       "5108  37544    Male  51.0             0              0          Yes   \n",
       "5109  44679  Female  44.0             0              0          Yes   \n",
       "\n",
       "          work_type Residence_type  avg_glucose_level   bmi   smoking_status  \\\n",
       "0           Private          Urban             228.69  36.6  formerly smoked   \n",
       "1     Self-employed          Rural             202.21   NaN     never smoked   \n",
       "2           Private          Rural             105.92  32.5     never smoked   \n",
       "3           Private          Urban             171.23  34.4           smokes   \n",
       "4     Self-employed          Rural             174.12  24.0     never smoked   \n",
       "...             ...            ...                ...   ...              ...   \n",
       "5105        Private          Urban              83.75   NaN     never smoked   \n",
       "5106  Self-employed          Urban             125.20  40.0     never smoked   \n",
       "5107  Self-employed          Rural              82.99  30.6     never smoked   \n",
       "5108        Private          Rural             166.29  25.6  formerly smoked   \n",
       "5109       Govt_job          Urban              85.28  26.2          Unknown   \n",
       "\n",
       "      stroke  \n",
       "0          1  \n",
       "1          1  \n",
       "2          1  \n",
       "3          1  \n",
       "4          1  \n",
       "...      ...  \n",
       "5105       0  \n",
       "5106       0  \n",
       "5107       0  \n",
       "5108       0  \n",
       "5109       0  \n",
       "\n",
       "[5109 rows x 12 columns]"
      ],
      "text/html": "<div>\n<style scoped>\n    .dataframe tbody tr th:only-of-type {\n        vertical-align: middle;\n    }\n\n    .dataframe tbody tr th {\n        vertical-align: top;\n    }\n\n    .dataframe thead th {\n        text-align: right;\n    }\n</style>\n<table border=\"1\" class=\"dataframe\">\n  <thead>\n    <tr style=\"text-align: right;\">\n      <th></th>\n      <th>id</th>\n      <th>gender</th>\n      <th>age</th>\n      <th>hypertension</th>\n      <th>heart_disease</th>\n      <th>ever_married</th>\n      <th>work_type</th>\n      <th>Residence_type</th>\n      <th>avg_glucose_level</th>\n      <th>bmi</th>\n      <th>smoking_status</th>\n      <th>stroke</th>\n    </tr>\n  </thead>\n  <tbody>\n    <tr>\n      <th>0</th>\n      <td>9046</td>\n      <td>Male</td>\n      <td>67.0</td>\n      <td>0</td>\n      <td>1</td>\n      <td>Yes</td>\n      <td>Private</td>\n      <td>Urban</td>\n      <td>228.69</td>\n      <td>36.6</td>\n      <td>formerly smoked</td>\n      <td>1</td>\n    </tr>\n    <tr>\n      <th>1</th>\n      <td>51676</td>\n      <td>Female</td>\n      <td>61.0</td>\n      <td>0</td>\n      <td>0</td>\n      <td>Yes</td>\n      <td>Self-employed</td>\n      <td>Rural</td>\n      <td>202.21</td>\n      <td>NaN</td>\n      <td>never smoked</td>\n      <td>1</td>\n    </tr>\n    <tr>\n      <th>2</th>\n      <td>31112</td>\n      <td>Male</td>\n      <td>80.0</td>\n      <td>0</td>\n      <td>1</td>\n      <td>Yes</td>\n      <td>Private</td>\n      <td>Rural</td>\n      <td>105.92</td>\n      <td>32.5</td>\n      <td>never smoked</td>\n      <td>1</td>\n    </tr>\n    <tr>\n      <th>3</th>\n      <td>60182</td>\n      <td>Female</td>\n      <td>49.0</td>\n      <td>0</td>\n      <td>0</td>\n      <td>Yes</td>\n      <td>Private</td>\n      <td>Urban</td>\n      <td>171.23</td>\n      <td>34.4</td>\n      <td>smokes</td>\n      <td>1</td>\n    </tr>\n    <tr>\n      <th>4</th>\n      <td>1665</td>\n      <td>Female</td>\n      <td>79.0</td>\n      <td>1</td>\n      <td>0</td>\n      <td>Yes</td>\n      <td>Self-employed</td>\n      <td>Rural</td>\n      <td>174.12</td>\n      <td>24.0</td>\n      <td>never smoked</td>\n      <td>1</td>\n    </tr>\n    <tr>\n      <th>...</th>\n      <td>...</td>\n      <td>...</td>\n      <td>...</td>\n      <td>...</td>\n      <td>...</td>\n      <td>...</td>\n      <td>...</td>\n      <td>...</td>\n      <td>...</td>\n      <td>...</td>\n      <td>...</td>\n      <td>...</td>\n    </tr>\n    <tr>\n      <th>5105</th>\n      <td>18234</td>\n      <td>Female</td>\n      <td>80.0</td>\n      <td>1</td>\n      <td>0</td>\n      <td>Yes</td>\n      <td>Private</td>\n      <td>Urban</td>\n      <td>83.75</td>\n      <td>NaN</td>\n      <td>never smoked</td>\n      <td>0</td>\n    </tr>\n    <tr>\n      <th>5106</th>\n      <td>44873</td>\n      <td>Female</td>\n      <td>81.0</td>\n      <td>0</td>\n      <td>0</td>\n      <td>Yes</td>\n      <td>Self-employed</td>\n      <td>Urban</td>\n      <td>125.20</td>\n      <td>40.0</td>\n      <td>never smoked</td>\n      <td>0</td>\n    </tr>\n    <tr>\n      <th>5107</th>\n      <td>19723</td>\n      <td>Female</td>\n      <td>35.0</td>\n      <td>0</td>\n      <td>0</td>\n      <td>Yes</td>\n      <td>Self-employed</td>\n      <td>Rural</td>\n      <td>82.99</td>\n      <td>30.6</td>\n      <td>never smoked</td>\n      <td>0</td>\n    </tr>\n    <tr>\n      <th>5108</th>\n      <td>37544</td>\n      <td>Male</td>\n      <td>51.0</td>\n      <td>0</td>\n      <td>0</td>\n      <td>Yes</td>\n      <td>Private</td>\n      <td>Rural</td>\n      <td>166.29</td>\n      <td>25.6</td>\n      <td>formerly smoked</td>\n      <td>0</td>\n    </tr>\n    <tr>\n      <th>5109</th>\n      <td>44679</td>\n      <td>Female</td>\n      <td>44.0</td>\n      <td>0</td>\n      <td>0</td>\n      <td>Yes</td>\n      <td>Govt_job</td>\n      <td>Urban</td>\n      <td>85.28</td>\n      <td>26.2</td>\n      <td>Unknown</td>\n      <td>0</td>\n    </tr>\n  </tbody>\n</table>\n<p>5109 rows × 12 columns</p>\n</div>"
     },
     "metadata": {},
     "execution_count": 38
    }
   ],
   "source": [
    "#We need to change the values to only numerial values\n",
    "#Id column is not needed for the prediction\n",
    "#Gender, ever_married, work_type, Residence_type, smoking_status columns have non numerail values\n",
    "#ever_married, residence_type columns have only 2 different values in each of them\n",
    "#gender has \"Other\" value, its not needed and we will drop it\n",
    "#work_type column has more than just 2 different values\n",
    "#smoking_status have some missing values called \"Unknown\"\n",
    "#Change \"Other\" value from gender column\n",
    "dataset.drop(dataset[dataset.gender == \"Other\"].index, inplace=True)\n",
    "#Show dataframe\n",
    "dataset"
   ]
  },
  {
   "cell_type": "code",
   "execution_count": 39,
   "metadata": {},
   "outputs": [
    {
     "output_type": "execute_result",
     "data": {
      "text/plain": [
       "0       1\n",
       "1       1\n",
       "2       1\n",
       "3       1\n",
       "4       1\n",
       "       ..\n",
       "5105    1\n",
       "5106    1\n",
       "5107    1\n",
       "5108    1\n",
       "5109    1\n",
       "Name: ever_married, Length: 5109, dtype: object"
      ]
     },
     "metadata": {},
     "execution_count": 39
    }
   ],
   "source": [
    "#\"Other\" value has been replaced\n",
    "#For columns with only 2 different values, we're changing the values to 0 or 1, doing Binary Encoding\n",
    "dataset['ever_married'] = dataset['ever_married'].replace(to_replace= ['No', 'Yes'],value = ['0','1'])\n",
    "dataset['ever_married']"
   ]
  },
  {
   "cell_type": "code",
   "execution_count": 40,
   "metadata": {},
   "outputs": [],
   "source": [
    "#Non numerial values have been replaced with 0 or 1"
   ]
  },
  {
   "cell_type": "code",
   "execution_count": 41,
   "metadata": {},
   "outputs": [
    {
     "output_type": "execute_result",
     "data": {
      "text/plain": [
       "0       1\n",
       "1       0\n",
       "2       0\n",
       "3       1\n",
       "4       0\n",
       "       ..\n",
       "5105    1\n",
       "5106    1\n",
       "5107    0\n",
       "5108    0\n",
       "5109    1\n",
       "Name: Residence_type, Length: 5109, dtype: object"
      ]
     },
     "metadata": {},
     "execution_count": 41
    }
   ],
   "source": [
    "dataset['Residence_type'] = dataset['Residence_type'].replace(to_replace= ['Rural', 'Urban'],value = ['0','1'])\n",
    "dataset['Residence_type']"
   ]
  },
  {
   "cell_type": "code",
   "execution_count": 42,
   "metadata": {},
   "outputs": [],
   "source": [
    "#Non numerial values have been replaced with 0 or 1"
   ]
  },
  {
   "cell_type": "code",
   "execution_count": 43,
   "metadata": {},
   "outputs": [
    {
     "output_type": "execute_result",
     "data": {
      "text/plain": [
       "0       1\n",
       "1       0\n",
       "2       1\n",
       "3       0\n",
       "4       0\n",
       "       ..\n",
       "5105    0\n",
       "5106    0\n",
       "5107    0\n",
       "5108    1\n",
       "5109    0\n",
       "Name: gender, Length: 5109, dtype: object"
      ]
     },
     "metadata": {},
     "execution_count": 43
    }
   ],
   "source": [
    "dataset['gender'] = dataset['gender'].replace(to_replace= ['Female', 'Male'],value = ['0','1'])\n",
    "dataset['gender']"
   ]
  },
  {
   "cell_type": "code",
   "execution_count": 44,
   "metadata": {},
   "outputs": [],
   "source": [
    "#Non numerial values have been replaced with 0 or 1"
   ]
  },
  {
   "cell_type": "code",
   "execution_count": 45,
   "metadata": {},
   "outputs": [],
   "source": [
    "#Define one-hot encoding to use it later for the dataframes\n",
    "def one_hot_encoding(dataset, column):\n",
    "    dataset = dataset.copy()\n",
    "    dummies = pd.get_dummies(dataset[column], prefix= column)\n",
    "    dataset = pd.concat([dataset, dummies], axis=1) #axis = 1 refers to columns while 0 refers to rows\n",
    "    dataset = dataset.drop(column, axis=1)\n",
    "    return dataset\n",
    "#Now we can call one-hot encoding from the previous def\n",
    "#One-Hot Encoding is used for the 'work_type' column because it has more than 2 different non numerial \n",
    "\n",
    "#Define MinMaxScaler to use it later for the dataframes\n",
    "def mmscaler(dataset):\n",
    "    scaler = MinMaxScaler()\n",
    "    scaler.fit(dataset)\n",
    "    dataset = pd.DataFrame(scaler.transform(dataset), index = dataset.index, columns = dataset.columns)\n",
    "    #Index defines as an address\n",
    "    return dataset\n",
    "#Now we can call scaler from the previous def\n"
   ]
  },
  {
   "source": [
    "DROP COLUMN"
   ],
   "cell_type": "markdown",
   "metadata": {}
  },
  {
   "cell_type": "code",
   "execution_count": 46,
   "metadata": {},
   "outputs": [
    {
     "output_type": "execute_result",
     "data": {
      "text/plain": [
       "   gender       age  hypertension  heart_disease  ever_married  \\\n",
       "0     1.0  0.816895           0.0            1.0           1.0   \n",
       "1     0.0  0.743652           0.0            0.0           1.0   \n",
       "2     1.0  0.975586           0.0            1.0           1.0   \n",
       "3     0.0  0.597168           0.0            0.0           1.0   \n",
       "4     0.0  0.963379           1.0            0.0           1.0   \n",
       "\n",
       "   Residence_type  avg_glucose_level  stroke  work_type_Govt_job  \\\n",
       "0             1.0           0.801265     1.0                 0.0   \n",
       "1             0.0           0.679023     1.0                 0.0   \n",
       "2             0.0           0.234512     1.0                 0.0   \n",
       "3             1.0           0.536008     1.0                 0.0   \n",
       "4             0.0           0.549349     1.0                 0.0   \n",
       "\n",
       "   work_type_Never_worked  work_type_Private  work_type_Self-employed  \\\n",
       "0                     0.0                1.0                      0.0   \n",
       "1                     0.0                0.0                      1.0   \n",
       "2                     0.0                1.0                      0.0   \n",
       "3                     0.0                1.0                      0.0   \n",
       "4                     0.0                0.0                      1.0   \n",
       "\n",
       "   work_type_children     id  \n",
       "0                 0.0   9046  \n",
       "1                 0.0  51676  \n",
       "2                 0.0  31112  \n",
       "3                 0.0  60182  \n",
       "4                 0.0   1665  "
      ],
      "text/html": "<div>\n<style scoped>\n    .dataframe tbody tr th:only-of-type {\n        vertical-align: middle;\n    }\n\n    .dataframe tbody tr th {\n        vertical-align: top;\n    }\n\n    .dataframe thead th {\n        text-align: right;\n    }\n</style>\n<table border=\"1\" class=\"dataframe\">\n  <thead>\n    <tr style=\"text-align: right;\">\n      <th></th>\n      <th>gender</th>\n      <th>age</th>\n      <th>hypertension</th>\n      <th>heart_disease</th>\n      <th>ever_married</th>\n      <th>Residence_type</th>\n      <th>avg_glucose_level</th>\n      <th>stroke</th>\n      <th>work_type_Govt_job</th>\n      <th>work_type_Never_worked</th>\n      <th>work_type_Private</th>\n      <th>work_type_Self-employed</th>\n      <th>work_type_children</th>\n      <th>id</th>\n    </tr>\n  </thead>\n  <tbody>\n    <tr>\n      <th>0</th>\n      <td>1.0</td>\n      <td>0.816895</td>\n      <td>0.0</td>\n      <td>1.0</td>\n      <td>1.0</td>\n      <td>1.0</td>\n      <td>0.801265</td>\n      <td>1.0</td>\n      <td>0.0</td>\n      <td>0.0</td>\n      <td>1.0</td>\n      <td>0.0</td>\n      <td>0.0</td>\n      <td>9046</td>\n    </tr>\n    <tr>\n      <th>1</th>\n      <td>0.0</td>\n      <td>0.743652</td>\n      <td>0.0</td>\n      <td>0.0</td>\n      <td>1.0</td>\n      <td>0.0</td>\n      <td>0.679023</td>\n      <td>1.0</td>\n      <td>0.0</td>\n      <td>0.0</td>\n      <td>0.0</td>\n      <td>1.0</td>\n      <td>0.0</td>\n      <td>51676</td>\n    </tr>\n    <tr>\n      <th>2</th>\n      <td>1.0</td>\n      <td>0.975586</td>\n      <td>0.0</td>\n      <td>1.0</td>\n      <td>1.0</td>\n      <td>0.0</td>\n      <td>0.234512</td>\n      <td>1.0</td>\n      <td>0.0</td>\n      <td>0.0</td>\n      <td>1.0</td>\n      <td>0.0</td>\n      <td>0.0</td>\n      <td>31112</td>\n    </tr>\n    <tr>\n      <th>3</th>\n      <td>0.0</td>\n      <td>0.597168</td>\n      <td>0.0</td>\n      <td>0.0</td>\n      <td>1.0</td>\n      <td>1.0</td>\n      <td>0.536008</td>\n      <td>1.0</td>\n      <td>0.0</td>\n      <td>0.0</td>\n      <td>1.0</td>\n      <td>0.0</td>\n      <td>0.0</td>\n      <td>60182</td>\n    </tr>\n    <tr>\n      <th>4</th>\n      <td>0.0</td>\n      <td>0.963379</td>\n      <td>1.0</td>\n      <td>0.0</td>\n      <td>1.0</td>\n      <td>0.0</td>\n      <td>0.549349</td>\n      <td>1.0</td>\n      <td>0.0</td>\n      <td>0.0</td>\n      <td>0.0</td>\n      <td>1.0</td>\n      <td>0.0</td>\n      <td>1665</td>\n    </tr>\n  </tbody>\n</table>\n</div>"
     },
     "metadata": {},
     "execution_count": 46
    }
   ],
   "source": [
    "#Drop Missing Values Columns Dataset\n",
    "#There are NaN values in column 'bmi' and there are 'Unknown' values in column 'smoking_status'\n",
    "#We are gonna drop both 'bmi' and 'smoking status\n",
    "#First dataset goes by the name of \"dataset1\"\n",
    "dataset1 = dataset.drop(['id','bmi','smoking_status'], axis = 1)\n",
    "dataset1 = one_hot_encoding(dataset1, 'work_type') #We are doing one-hot encoding on work_type column\n",
    "dataset1 = mmscaler(dataset1)\n",
    "dataset1 = pd.concat([dataset1,dataset['id']],axis = 1)\n",
    "dataset1.head()"
   ]
  },
  {
   "source": [
    "MEAN IMPUTATION "
   ],
   "cell_type": "markdown",
   "metadata": {}
  },
  {
   "cell_type": "code",
   "execution_count": 47,
   "metadata": {},
   "outputs": [
    {
     "output_type": "execute_result",
     "data": {
      "text/plain": [
       "   gender       age  hypertension  heart_disease  ever_married  \\\n",
       "0     1.0  0.816895           0.0            1.0           1.0   \n",
       "1     0.0  0.743652           0.0            0.0           1.0   \n",
       "2     1.0  0.975586           0.0            1.0           1.0   \n",
       "3     0.0  0.597168           0.0            0.0           1.0   \n",
       "4     0.0  0.963379           1.0            0.0           1.0   \n",
       "\n",
       "   Residence_type  avg_glucose_level       bmi  stroke  work_type_Govt_job  \\\n",
       "0             1.0           0.801265  0.301260     1.0                 0.0   \n",
       "1             0.0           0.679023  0.212996     1.0                 0.0   \n",
       "2             0.0           0.234512  0.254296     1.0                 0.0   \n",
       "3             1.0           0.536008  0.276060     1.0                 0.0   \n",
       "4             0.0           0.549349  0.156930     1.0                 0.0   \n",
       "\n",
       "   work_type_Never_worked  work_type_Private  work_type_Self-employed  \\\n",
       "0                     0.0                1.0                      0.0   \n",
       "1                     0.0                0.0                      1.0   \n",
       "2                     0.0                1.0                      0.0   \n",
       "3                     0.0                1.0                      0.0   \n",
       "4                     0.0                0.0                      1.0   \n",
       "\n",
       "   work_type_children     id  \n",
       "0                 0.0   9046  \n",
       "1                 0.0  51676  \n",
       "2                 0.0  31112  \n",
       "3                 0.0  60182  \n",
       "4                 0.0   1665  "
      ],
      "text/html": "<div>\n<style scoped>\n    .dataframe tbody tr th:only-of-type {\n        vertical-align: middle;\n    }\n\n    .dataframe tbody tr th {\n        vertical-align: top;\n    }\n\n    .dataframe thead th {\n        text-align: right;\n    }\n</style>\n<table border=\"1\" class=\"dataframe\">\n  <thead>\n    <tr style=\"text-align: right;\">\n      <th></th>\n      <th>gender</th>\n      <th>age</th>\n      <th>hypertension</th>\n      <th>heart_disease</th>\n      <th>ever_married</th>\n      <th>Residence_type</th>\n      <th>avg_glucose_level</th>\n      <th>bmi</th>\n      <th>stroke</th>\n      <th>work_type_Govt_job</th>\n      <th>work_type_Never_worked</th>\n      <th>work_type_Private</th>\n      <th>work_type_Self-employed</th>\n      <th>work_type_children</th>\n      <th>id</th>\n    </tr>\n  </thead>\n  <tbody>\n    <tr>\n      <th>0</th>\n      <td>1.0</td>\n      <td>0.816895</td>\n      <td>0.0</td>\n      <td>1.0</td>\n      <td>1.0</td>\n      <td>1.0</td>\n      <td>0.801265</td>\n      <td>0.301260</td>\n      <td>1.0</td>\n      <td>0.0</td>\n      <td>0.0</td>\n      <td>1.0</td>\n      <td>0.0</td>\n      <td>0.0</td>\n      <td>9046</td>\n    </tr>\n    <tr>\n      <th>1</th>\n      <td>0.0</td>\n      <td>0.743652</td>\n      <td>0.0</td>\n      <td>0.0</td>\n      <td>1.0</td>\n      <td>0.0</td>\n      <td>0.679023</td>\n      <td>0.212996</td>\n      <td>1.0</td>\n      <td>0.0</td>\n      <td>0.0</td>\n      <td>0.0</td>\n      <td>1.0</td>\n      <td>0.0</td>\n      <td>51676</td>\n    </tr>\n    <tr>\n      <th>2</th>\n      <td>1.0</td>\n      <td>0.975586</td>\n      <td>0.0</td>\n      <td>1.0</td>\n      <td>1.0</td>\n      <td>0.0</td>\n      <td>0.234512</td>\n      <td>0.254296</td>\n      <td>1.0</td>\n      <td>0.0</td>\n      <td>0.0</td>\n      <td>1.0</td>\n      <td>0.0</td>\n      <td>0.0</td>\n      <td>31112</td>\n    </tr>\n    <tr>\n      <th>3</th>\n      <td>0.0</td>\n      <td>0.597168</td>\n      <td>0.0</td>\n      <td>0.0</td>\n      <td>1.0</td>\n      <td>1.0</td>\n      <td>0.536008</td>\n      <td>0.276060</td>\n      <td>1.0</td>\n      <td>0.0</td>\n      <td>0.0</td>\n      <td>1.0</td>\n      <td>0.0</td>\n      <td>0.0</td>\n      <td>60182</td>\n    </tr>\n    <tr>\n      <th>4</th>\n      <td>0.0</td>\n      <td>0.963379</td>\n      <td>1.0</td>\n      <td>0.0</td>\n      <td>1.0</td>\n      <td>0.0</td>\n      <td>0.549349</td>\n      <td>0.156930</td>\n      <td>1.0</td>\n      <td>0.0</td>\n      <td>0.0</td>\n      <td>0.0</td>\n      <td>1.0</td>\n      <td>0.0</td>\n      <td>1665</td>\n    </tr>\n  </tbody>\n</table>\n</div>"
     },
     "metadata": {},
     "execution_count": 47
    }
   ],
   "source": [
    "#Replace NaN values in 'bmi' with the mean of that column\n",
    "#Droping smoking_status because it has unknown values\n",
    "#Second dataset goes by the name of dataset2\n",
    "dataset2 = dataset.drop(['id','smoking_status'],axis=1)\n",
    "dataset2['bmi'].fillna((dataset2['bmi'].mean()), inplace = True)\n",
    "dataset2 = one_hot_encoding(dataset2,'work_type') \n",
    "dataset2 = mmscaler(dataset2)\n",
    "dataset2 = pd.concat([dataset2,dataset['id']],axis = 1)\n",
    "dataset2.head()\n"
   ]
  },
  {
   "source": [
    "LINEAR REGRESSION"
   ],
   "cell_type": "markdown",
   "metadata": {}
  },
  {
   "cell_type": "code",
   "execution_count": 48,
   "metadata": {},
   "outputs": [],
   "source": [
    "#Linear Regression\n",
    "#We are going to replace NaN values using linear regression\n",
    "#First we need to build inside a def everything is needed for the linear regression\n",
    "def prelinear_regression(input):\n",
    "    dataset = input.copy()\n",
    "    dataset = dataset.drop('id', axis=1)\n",
    "    dataset = one_hot_encoding(dataset, column = 'work_type')\n",
    "    newdataset = dataset['stroke'] #We want to predict the stroke column\n",
    "    dataset.drop(['smoking_status','stroke'],inplace=True, axis=1) \n",
    "    #We droped smoking_status because of Unknown Values. \n",
    "    #We droped stroke column because we want to predict that\n",
    "    dataset =mmscaler(dataset)\n",
    "    #Now we are going to seperate NaN values from not Nan\n",
    "    test_data = dataset[dataset['bmi'].isnull()]\n",
    "    train_data = dataset.dropna()\n",
    "    #We dropped the NaN values from the dataset\n",
    "    #Time for X and y train\n",
    "    y_train=train_data['bmi']\n",
    "    X_train =train_data.drop('bmi', axis =1)\n",
    "    linr = LinearRegression()\n",
    "    linr.fit(X_train, y_train)\n",
    "    #Now we want to replace the NaN values with the predicted values\n",
    "    X_test = test_data.drop('bmi', axis=1)\n",
    "    y_pred = linr.predict(X_test)\n",
    "    test_data.loc[test_data.bmi.isnull(),'bmi']= y_pred \n",
    "    dataset['bmi'].fillna((test_data['bmi']), inplace=True)\n",
    "    dataset = pd.concat([dataset, newdataset], axis =1)\n",
    "    return dataset"
   ]
  },
  {
   "cell_type": "code",
   "execution_count": 49,
   "metadata": {},
   "outputs": [
    {
     "output_type": "stream",
     "name": "stderr",
     "text": [
      "C:\\Users\\xtbal\\anaconda3\\lib\\site-packages\\pandas\\core\\indexing.py:670: SettingWithCopyWarning: \nA value is trying to be set on a copy of a slice from a DataFrame\n\nSee the caveats in the documentation: https://pandas.pydata.org/pandas-docs/stable/user_guide/indexing.html#returning-a-view-versus-a-copy\n  iloc._setitem_with_indexer(indexer, value)\n<ipython-input-48-8a5de964a7ad>:25: SettingWithCopyWarning: \nA value is trying to be set on a copy of a slice from a DataFrame\n\nSee the caveats in the documentation: https://pandas.pydata.org/pandas-docs/stable/user_guide/indexing.html#returning-a-view-versus-a-copy\n  test_data.loc[test_data.bmi.isnull(),'bmi']= y_pred\n"
     ]
    },
    {
     "output_type": "execute_result",
     "data": {
      "text/plain": [
       "   gender       age  hypertension  heart_disease  ever_married  \\\n",
       "0     1.0  0.816895           0.0            1.0           1.0   \n",
       "1     0.0  0.743652           0.0            0.0           1.0   \n",
       "2     1.0  0.975586           0.0            1.0           1.0   \n",
       "3     0.0  0.597168           0.0            0.0           1.0   \n",
       "4     0.0  0.963379           1.0            0.0           1.0   \n",
       "\n",
       "   Residence_type  avg_glucose_level       bmi  work_type_Govt_job  \\\n",
       "0             1.0           0.801265  0.301260                 0.0   \n",
       "1             0.0           0.679023  0.247691                 0.0   \n",
       "2             0.0           0.234512  0.254296                 0.0   \n",
       "3             1.0           0.536008  0.276060                 0.0   \n",
       "4             0.0           0.549349  0.156930                 0.0   \n",
       "\n",
       "   work_type_Never_worked  work_type_Private  work_type_Self-employed  \\\n",
       "0                     0.0                1.0                      0.0   \n",
       "1                     0.0                0.0                      1.0   \n",
       "2                     0.0                1.0                      0.0   \n",
       "3                     0.0                1.0                      0.0   \n",
       "4                     0.0                0.0                      1.0   \n",
       "\n",
       "   work_type_children  stroke     id  \n",
       "0                 0.0       1   9046  \n",
       "1                 0.0       1  51676  \n",
       "2                 0.0       1  31112  \n",
       "3                 0.0       1  60182  \n",
       "4                 0.0       1   1665  "
      ],
      "text/html": "<div>\n<style scoped>\n    .dataframe tbody tr th:only-of-type {\n        vertical-align: middle;\n    }\n\n    .dataframe tbody tr th {\n        vertical-align: top;\n    }\n\n    .dataframe thead th {\n        text-align: right;\n    }\n</style>\n<table border=\"1\" class=\"dataframe\">\n  <thead>\n    <tr style=\"text-align: right;\">\n      <th></th>\n      <th>gender</th>\n      <th>age</th>\n      <th>hypertension</th>\n      <th>heart_disease</th>\n      <th>ever_married</th>\n      <th>Residence_type</th>\n      <th>avg_glucose_level</th>\n      <th>bmi</th>\n      <th>work_type_Govt_job</th>\n      <th>work_type_Never_worked</th>\n      <th>work_type_Private</th>\n      <th>work_type_Self-employed</th>\n      <th>work_type_children</th>\n      <th>stroke</th>\n      <th>id</th>\n    </tr>\n  </thead>\n  <tbody>\n    <tr>\n      <th>0</th>\n      <td>1.0</td>\n      <td>0.816895</td>\n      <td>0.0</td>\n      <td>1.0</td>\n      <td>1.0</td>\n      <td>1.0</td>\n      <td>0.801265</td>\n      <td>0.301260</td>\n      <td>0.0</td>\n      <td>0.0</td>\n      <td>1.0</td>\n      <td>0.0</td>\n      <td>0.0</td>\n      <td>1</td>\n      <td>9046</td>\n    </tr>\n    <tr>\n      <th>1</th>\n      <td>0.0</td>\n      <td>0.743652</td>\n      <td>0.0</td>\n      <td>0.0</td>\n      <td>1.0</td>\n      <td>0.0</td>\n      <td>0.679023</td>\n      <td>0.247691</td>\n      <td>0.0</td>\n      <td>0.0</td>\n      <td>0.0</td>\n      <td>1.0</td>\n      <td>0.0</td>\n      <td>1</td>\n      <td>51676</td>\n    </tr>\n    <tr>\n      <th>2</th>\n      <td>1.0</td>\n      <td>0.975586</td>\n      <td>0.0</td>\n      <td>1.0</td>\n      <td>1.0</td>\n      <td>0.0</td>\n      <td>0.234512</td>\n      <td>0.254296</td>\n      <td>0.0</td>\n      <td>0.0</td>\n      <td>1.0</td>\n      <td>0.0</td>\n      <td>0.0</td>\n      <td>1</td>\n      <td>31112</td>\n    </tr>\n    <tr>\n      <th>3</th>\n      <td>0.0</td>\n      <td>0.597168</td>\n      <td>0.0</td>\n      <td>0.0</td>\n      <td>1.0</td>\n      <td>1.0</td>\n      <td>0.536008</td>\n      <td>0.276060</td>\n      <td>0.0</td>\n      <td>0.0</td>\n      <td>1.0</td>\n      <td>0.0</td>\n      <td>0.0</td>\n      <td>1</td>\n      <td>60182</td>\n    </tr>\n    <tr>\n      <th>4</th>\n      <td>0.0</td>\n      <td>0.963379</td>\n      <td>1.0</td>\n      <td>0.0</td>\n      <td>1.0</td>\n      <td>0.0</td>\n      <td>0.549349</td>\n      <td>0.156930</td>\n      <td>0.0</td>\n      <td>0.0</td>\n      <td>0.0</td>\n      <td>1.0</td>\n      <td>0.0</td>\n      <td>1</td>\n      <td>1665</td>\n    </tr>\n  </tbody>\n</table>\n</div>"
     },
     "metadata": {},
     "execution_count": 49
    }
   ],
   "source": [
    "#Now we can test how linear regression works\n",
    "#Third dataset goes by the name dataset3\n",
    "dataset3 = dataset\n",
    "dataset3 = prelinear_regression(dataset3)\n",
    "dataset3 = pd.concat([dataset3,dataset['id']],axis = 1)\n",
    "#We loaded everything we've done for the Linear Regression into dataset3\n",
    "dataset3.head()"
   ]
  },
  {
   "source": [
    "KNN IMPUTATION"
   ],
   "cell_type": "markdown",
   "metadata": {}
  },
  {
   "cell_type": "code",
   "execution_count": 50,
   "metadata": {},
   "outputs": [],
   "source": [
    "#KNN Imputation\n",
    "#Just like Linear regression we'll do the steps needed to run the Knn Imputation and then load it to a new dataset copy of dataset\n",
    "#We need to replace the 'Unknown' values from smoking_status, with NaN values\n",
    "def pre_knn(input):\n",
    "    dataset = input.copy()\n",
    "    dataset = dataset.drop('id', axis=1)\n",
    "    dataset = one_hot_encoding(dataset, column=['work_type'])\n",
    "    lb = LabelEncoder() #to replace 'Unknown' values with NaN\n",
    "    dataset['smoking_status'] = dataset['smoking_status'].replace('Unknown',np.nan)\n",
    "    dataset['smoking_status'] = dataset['smoking_status'].astype(str)\n",
    "    dataset['smoking_status']=lb.fit_transform(dataset['smoking_status'])\n",
    "    dataset['smoking_status'] = dataset['smoking_status'].replace(3,np.nan)\n",
    "    \n",
    "    y=dataset['stroke']\n",
    "    X=dataset.drop(['bmi','stroke'],axis=1) \n",
    "    #Dropped bmi to make a dataset without this column for now\n",
    "    #Dropped stroke because we want to predict it\n",
    "    X = mmscaler(X)\n",
    "    #Now we need to do the Knn imputation for the missing values\n",
    "    knn = KNNImputer(n_neighbors=10) #Number of neighboring samples to use for imputation\n",
    "    X = pd.DataFrame(knn.fit_transform(X), index = X.index, columns=X.columns)\n",
    "    X = pd.concat([X,y], axis=1)\n",
    "    return X #By using \"return X\" it will return both of X_train,X_test,y_train and y_test when its called"
   ]
  },
  {
   "cell_type": "code",
   "execution_count": 51,
   "metadata": {},
   "outputs": [
    {
     "output_type": "execute_result",
     "data": {
      "text/plain": [
       "   gender       age  hypertension  heart_disease  ever_married  \\\n",
       "0     1.0  0.816895           0.0            1.0           1.0   \n",
       "1     0.0  0.743652           0.0            0.0           1.0   \n",
       "2     1.0  0.975586           0.0            1.0           1.0   \n",
       "3     0.0  0.597168           0.0            0.0           1.0   \n",
       "4     0.0  0.963379           1.0            0.0           1.0   \n",
       "\n",
       "   Residence_type  avg_glucose_level  smoking_status  work_type_Govt_job  \\\n",
       "0             1.0           0.801265            0.00                 0.0   \n",
       "1             0.0           0.679023            1.00                 0.0   \n",
       "2             0.0           0.234512            1.00                 0.0   \n",
       "3             1.0           0.536008            0.55                 0.0   \n",
       "4             0.0           0.549349            1.00                 0.0   \n",
       "\n",
       "   work_type_Never_worked  work_type_Private  work_type_Self-employed  \\\n",
       "0                     0.0                1.0                      0.0   \n",
       "1                     0.0                0.0                      1.0   \n",
       "2                     0.0                1.0                      0.0   \n",
       "3                     0.0                1.0                      0.0   \n",
       "4                     0.0                0.0                      1.0   \n",
       "\n",
       "   work_type_children  stroke     id  \n",
       "0                 0.0       1   9046  \n",
       "1                 0.0       1  51676  \n",
       "2                 0.0       1  31112  \n",
       "3                 0.0       1  60182  \n",
       "4                 0.0       1   1665  "
      ],
      "text/html": "<div>\n<style scoped>\n    .dataframe tbody tr th:only-of-type {\n        vertical-align: middle;\n    }\n\n    .dataframe tbody tr th {\n        vertical-align: top;\n    }\n\n    .dataframe thead th {\n        text-align: right;\n    }\n</style>\n<table border=\"1\" class=\"dataframe\">\n  <thead>\n    <tr style=\"text-align: right;\">\n      <th></th>\n      <th>gender</th>\n      <th>age</th>\n      <th>hypertension</th>\n      <th>heart_disease</th>\n      <th>ever_married</th>\n      <th>Residence_type</th>\n      <th>avg_glucose_level</th>\n      <th>smoking_status</th>\n      <th>work_type_Govt_job</th>\n      <th>work_type_Never_worked</th>\n      <th>work_type_Private</th>\n      <th>work_type_Self-employed</th>\n      <th>work_type_children</th>\n      <th>stroke</th>\n      <th>id</th>\n    </tr>\n  </thead>\n  <tbody>\n    <tr>\n      <th>0</th>\n      <td>1.0</td>\n      <td>0.816895</td>\n      <td>0.0</td>\n      <td>1.0</td>\n      <td>1.0</td>\n      <td>1.0</td>\n      <td>0.801265</td>\n      <td>0.00</td>\n      <td>0.0</td>\n      <td>0.0</td>\n      <td>1.0</td>\n      <td>0.0</td>\n      <td>0.0</td>\n      <td>1</td>\n      <td>9046</td>\n    </tr>\n    <tr>\n      <th>1</th>\n      <td>0.0</td>\n      <td>0.743652</td>\n      <td>0.0</td>\n      <td>0.0</td>\n      <td>1.0</td>\n      <td>0.0</td>\n      <td>0.679023</td>\n      <td>1.00</td>\n      <td>0.0</td>\n      <td>0.0</td>\n      <td>0.0</td>\n      <td>1.0</td>\n      <td>0.0</td>\n      <td>1</td>\n      <td>51676</td>\n    </tr>\n    <tr>\n      <th>2</th>\n      <td>1.0</td>\n      <td>0.975586</td>\n      <td>0.0</td>\n      <td>1.0</td>\n      <td>1.0</td>\n      <td>0.0</td>\n      <td>0.234512</td>\n      <td>1.00</td>\n      <td>0.0</td>\n      <td>0.0</td>\n      <td>1.0</td>\n      <td>0.0</td>\n      <td>0.0</td>\n      <td>1</td>\n      <td>31112</td>\n    </tr>\n    <tr>\n      <th>3</th>\n      <td>0.0</td>\n      <td>0.597168</td>\n      <td>0.0</td>\n      <td>0.0</td>\n      <td>1.0</td>\n      <td>1.0</td>\n      <td>0.536008</td>\n      <td>0.55</td>\n      <td>0.0</td>\n      <td>0.0</td>\n      <td>1.0</td>\n      <td>0.0</td>\n      <td>0.0</td>\n      <td>1</td>\n      <td>60182</td>\n    </tr>\n    <tr>\n      <th>4</th>\n      <td>0.0</td>\n      <td>0.963379</td>\n      <td>1.0</td>\n      <td>0.0</td>\n      <td>1.0</td>\n      <td>0.0</td>\n      <td>0.549349</td>\n      <td>1.00</td>\n      <td>0.0</td>\n      <td>0.0</td>\n      <td>0.0</td>\n      <td>1.0</td>\n      <td>0.0</td>\n      <td>1</td>\n      <td>1665</td>\n    </tr>\n  </tbody>\n</table>\n</div>"
     },
     "metadata": {},
     "execution_count": 51
    }
   ],
   "source": [
    "#Now we can run and test the Knn Imputation\n",
    "#Fourth dataset goes by the name of dataset4\n",
    "dataset4 = dataset\n",
    "dataset4 = pre_knn(dataset4)\n",
    "dataset4 = pd.concat([dataset4,dataset['id']],axis = 1)\n",
    "dataset4.head()"
   ]
  },
  {
   "cell_type": "code",
   "execution_count": 52,
   "metadata": {},
   "outputs": [
    {
     "output_type": "execute_result",
     "data": {
      "text/plain": [
       "0       formerly smoked\n",
       "1          never smoked\n",
       "2          never smoked\n",
       "3                smokes\n",
       "4          never smoked\n",
       "             ...       \n",
       "5105       never smoked\n",
       "5106       never smoked\n",
       "5107       never smoked\n",
       "5108    formerly smoked\n",
       "5109            Unknown\n",
       "Name: smoking_status, Length: 5109, dtype: object"
      ]
     },
     "metadata": {},
     "execution_count": 52
    }
   ],
   "source": [
    "dataset['smoking_status']"
   ]
  },
  {
   "cell_type": "code",
   "execution_count": 53,
   "metadata": {},
   "outputs": [
    {
     "output_type": "execute_result",
     "data": {
      "text/plain": [
       "id                     int64\n",
       "gender                object\n",
       "age                  float64\n",
       "hypertension           int64\n",
       "heart_disease          int64\n",
       "ever_married          object\n",
       "work_type             object\n",
       "Residence_type        object\n",
       "avg_glucose_level    float64\n",
       "bmi                  float64\n",
       "smoking_status        object\n",
       "stroke                 int64\n",
       "dtype: object"
      ]
     },
     "metadata": {},
     "execution_count": 53
    }
   ],
   "source": [
    "dataset.dtypes"
   ]
  },
  {
   "source": [
    "KNN IMPUTATION AND LINEAR REGRESSION"
   ],
   "cell_type": "markdown",
   "metadata": {}
  },
  {
   "cell_type": "code",
   "execution_count": 54,
   "metadata": {},
   "outputs": [
    {
     "output_type": "execute_result",
     "data": {
      "text/plain": [
       "   gender       age  hypertension  heart_disease  ever_married  \\\n",
       "0     1.0  0.816895           0.0            1.0           1.0   \n",
       "1     0.0  0.743652           0.0            0.0           1.0   \n",
       "2     1.0  0.975586           0.0            1.0           1.0   \n",
       "3     0.0  0.597168           0.0            0.0           1.0   \n",
       "4     0.0  0.963379           1.0            0.0           1.0   \n",
       "\n",
       "   Residence_type  avg_glucose_level  smoking_status  work_type_Govt_job  \\\n",
       "0             1.0           0.801265            0.00                 0.0   \n",
       "1             0.0           0.679023            1.00                 0.0   \n",
       "2             0.0           0.234512            1.00                 0.0   \n",
       "3             1.0           0.536008            0.55                 0.0   \n",
       "4             0.0           0.549349            1.00                 0.0   \n",
       "\n",
       "   work_type_Never_worked  work_type_Private  work_type_Self-employed  \\\n",
       "0                     0.0                1.0                      0.0   \n",
       "1                     0.0                0.0                      1.0   \n",
       "2                     0.0                1.0                      0.0   \n",
       "3                     0.0                1.0                      0.0   \n",
       "4                     0.0                0.0                      1.0   \n",
       "\n",
       "   work_type_children  stroke     id       bmi  \n",
       "0                 0.0       1   9046  0.301260  \n",
       "1                 0.0       1  51676  0.247691  \n",
       "2                 0.0       1  31112  0.254296  \n",
       "3                 0.0       1  60182  0.276060  \n",
       "4                 0.0       1   1665  0.156930  "
      ],
      "text/html": "<div>\n<style scoped>\n    .dataframe tbody tr th:only-of-type {\n        vertical-align: middle;\n    }\n\n    .dataframe tbody tr th {\n        vertical-align: top;\n    }\n\n    .dataframe thead th {\n        text-align: right;\n    }\n</style>\n<table border=\"1\" class=\"dataframe\">\n  <thead>\n    <tr style=\"text-align: right;\">\n      <th></th>\n      <th>gender</th>\n      <th>age</th>\n      <th>hypertension</th>\n      <th>heart_disease</th>\n      <th>ever_married</th>\n      <th>Residence_type</th>\n      <th>avg_glucose_level</th>\n      <th>smoking_status</th>\n      <th>work_type_Govt_job</th>\n      <th>work_type_Never_worked</th>\n      <th>work_type_Private</th>\n      <th>work_type_Self-employed</th>\n      <th>work_type_children</th>\n      <th>stroke</th>\n      <th>id</th>\n      <th>bmi</th>\n    </tr>\n  </thead>\n  <tbody>\n    <tr>\n      <th>0</th>\n      <td>1.0</td>\n      <td>0.816895</td>\n      <td>0.0</td>\n      <td>1.0</td>\n      <td>1.0</td>\n      <td>1.0</td>\n      <td>0.801265</td>\n      <td>0.00</td>\n      <td>0.0</td>\n      <td>0.0</td>\n      <td>1.0</td>\n      <td>0.0</td>\n      <td>0.0</td>\n      <td>1</td>\n      <td>9046</td>\n      <td>0.301260</td>\n    </tr>\n    <tr>\n      <th>1</th>\n      <td>0.0</td>\n      <td>0.743652</td>\n      <td>0.0</td>\n      <td>0.0</td>\n      <td>1.0</td>\n      <td>0.0</td>\n      <td>0.679023</td>\n      <td>1.00</td>\n      <td>0.0</td>\n      <td>0.0</td>\n      <td>0.0</td>\n      <td>1.0</td>\n      <td>0.0</td>\n      <td>1</td>\n      <td>51676</td>\n      <td>0.247691</td>\n    </tr>\n    <tr>\n      <th>2</th>\n      <td>1.0</td>\n      <td>0.975586</td>\n      <td>0.0</td>\n      <td>1.0</td>\n      <td>1.0</td>\n      <td>0.0</td>\n      <td>0.234512</td>\n      <td>1.00</td>\n      <td>0.0</td>\n      <td>0.0</td>\n      <td>1.0</td>\n      <td>0.0</td>\n      <td>0.0</td>\n      <td>1</td>\n      <td>31112</td>\n      <td>0.254296</td>\n    </tr>\n    <tr>\n      <th>3</th>\n      <td>0.0</td>\n      <td>0.597168</td>\n      <td>0.0</td>\n      <td>0.0</td>\n      <td>1.0</td>\n      <td>1.0</td>\n      <td>0.536008</td>\n      <td>0.55</td>\n      <td>0.0</td>\n      <td>0.0</td>\n      <td>1.0</td>\n      <td>0.0</td>\n      <td>0.0</td>\n      <td>1</td>\n      <td>60182</td>\n      <td>0.276060</td>\n    </tr>\n    <tr>\n      <th>4</th>\n      <td>0.0</td>\n      <td>0.963379</td>\n      <td>1.0</td>\n      <td>0.0</td>\n      <td>1.0</td>\n      <td>0.0</td>\n      <td>0.549349</td>\n      <td>1.00</td>\n      <td>0.0</td>\n      <td>0.0</td>\n      <td>0.0</td>\n      <td>1.0</td>\n      <td>0.0</td>\n      <td>1</td>\n      <td>1665</td>\n      <td>0.156930</td>\n    </tr>\n  </tbody>\n</table>\n</div>"
     },
     "metadata": {},
     "execution_count": 54
    }
   ],
   "source": [
    "#For the 5th dataset we'll take the dataset from the Knn Imputer, and we will add the 'bmi' column from dataset3\n",
    "#Fifth dataset goes by the name of dataset5\n",
    "dataset5 = pd.concat([dataset4, dataset3['bmi']], axis =1)\n",
    "dataset5.head()"
   ]
  },
  {
   "source": [
    "RANDOM FOREST AND DATA PREDICTION"
   ],
   "cell_type": "markdown",
   "metadata": {}
  },
  {
   "cell_type": "code",
   "execution_count": 55,
   "metadata": {},
   "outputs": [],
   "source": [
    "#We have all 5 datasets\n",
    "#Now we need to preprocess the RandomForest\n",
    "#We want to predict the 'stroke' column, so we'll split  the dataset into 2 parts. \n",
    "#The first part will be the whole dataset without the 'stroke' column\n",
    "#The second part will be only the 'stroke' column\n",
    "def randfor(dataset):\n",
    "    dataset = dataset.drop('id', axis=1)\n",
    "    X = dataset.drop('stroke',axis=1) #First part\n",
    "    y = dataset['stroke'] #second part\n",
    "\n",
    "    #Use of SMOTE to balance the values inside the 'stroke' column\n",
    "    sm = SMOTE(sampling_strategy = 'minority')\n",
    "    X_s, y_s = sm.fit_resample(X,y)\n",
    "    #Train and test split\n",
    "    X_train, X_test, y_train, y_test = train_test_split(X_s, y_s, train_size =0.75, test_size =0.25, shuffle = True, random_state=1)\n",
    "\n",
    "    print('[f1_score, precision_score, recall_score]')\n",
    "\n",
    "    #Call the desire model\n",
    "    modelr = RandomForestClassifier(n_estimators = 16)\n",
    "    modelr.fit(X_train,y_train)\n",
    "    y_pred = modelr.predict(X_test)\n",
    "    #We want F1, Precision and Recall scores\n",
    "    score = [f1_score(y_test,y_pred),precision_score(y_test,y_pred),recall_score(y_test,y_pred)]\n",
    "\n",
    "\n",
    "    return score\n",
    "\n"
   ]
  },
  {
   "cell_type": "code",
   "execution_count": 56,
   "metadata": {},
   "outputs": [
    {
     "output_type": "stream",
     "name": "stdout",
     "text": [
      "[f1_score, precision_score, recall_score]\n"
     ]
    },
    {
     "output_type": "execute_result",
     "data": {
      "text/plain": [
       "[0.9021694637740483, 0.9018003273322422, 0.9025389025389026]"
      ]
     },
     "metadata": {},
     "execution_count": 56
    }
   ],
   "source": [
    "randfor(dataset1)"
   ]
  },
  {
   "cell_type": "code",
   "execution_count": 57,
   "metadata": {},
   "outputs": [
    {
     "output_type": "stream",
     "name": "stdout",
     "text": [
      "[f1_score, precision_score, recall_score]\n"
     ]
    },
    {
     "output_type": "execute_result",
     "data": {
      "text/plain": [
       "[0.9318910256410255, 0.912156862745098, 0.9524979524979525]"
      ]
     },
     "metadata": {},
     "execution_count": 57
    }
   ],
   "source": [
    "randfor(dataset2)"
   ]
  },
  {
   "cell_type": "code",
   "execution_count": 58,
   "metadata": {},
   "outputs": [
    {
     "output_type": "stream",
     "name": "stdout",
     "text": [
      "[f1_score, precision_score, recall_score]\n"
     ]
    },
    {
     "output_type": "execute_result",
     "data": {
      "text/plain": [
       "[0.924260834345889, 0.9142628205128205, 0.9344799344799345]"
      ]
     },
     "metadata": {},
     "execution_count": 58
    }
   ],
   "source": [
    "randfor(dataset3)"
   ]
  },
  {
   "cell_type": "code",
   "execution_count": 59,
   "metadata": {},
   "outputs": [
    {
     "output_type": "stream",
     "name": "stdout",
     "text": [
      "[f1_score, precision_score, recall_score]\n"
     ]
    },
    {
     "output_type": "execute_result",
     "data": {
      "text/plain": [
       "[0.922020202020202, 0.9098883572567783, 0.9344799344799345]"
      ]
     },
     "metadata": {},
     "execution_count": 59
    }
   ],
   "source": [
    "randfor(dataset4)"
   ]
  },
  {
   "cell_type": "code",
   "execution_count": 60,
   "metadata": {},
   "outputs": [
    {
     "output_type": "stream",
     "name": "stdout",
     "text": [
      "[f1_score, precision_score, recall_score]\n"
     ]
    },
    {
     "output_type": "execute_result",
     "data": {
      "text/plain": [
       "[0.9342948717948718, 0.9145098039215687, 0.954954954954955]"
      ]
     },
     "metadata": {},
     "execution_count": 60
    }
   ],
   "source": [
    "randfor(dataset5)"
   ]
  },
  {
   "source": [
    "INPUT PARAMETERS"
   ],
   "cell_type": "markdown",
   "metadata": {}
  },
  {
   "cell_type": "code",
   "execution_count": 61,
   "metadata": {},
   "outputs": [
    {
     "output_type": "execute_result",
     "data": {
      "text/plain": [
       "{'criterion': 'entropy', 'n_estimators': 10}"
      ]
     },
     "metadata": {},
     "execution_count": 61
    }
   ],
   "source": [
    "#We are gonna split the dataset(n) into X and y\n",
    "X = dataset1.drop('stroke',axis =1)\n",
    "y = dataset1['stroke']\n",
    "X_train, X_test, y_train, y_test = train_test_split(X, y, train_size =0.75, test_size =0.25, shuffle = True, random_state=1)\n",
    "#We want to improve input values\n",
    "#We are gonna use GridSearchCV\n",
    "#Most common used n_stimators values were 14 and 16\n",
    "#Most common criterion used was gini\n",
    "parameters = {'n_estimators': [6,7,8,9,10,11,12,13,14,15,16,17,18],'criterion':['gini','entropy']}\n",
    "gridrandomforest = GridSearchCV(RandomForestClassifier(),param_grid= parameters, cv=5)\n",
    "gridrandomforest.fit(X_train,y_train)\n",
    "gridrandomforest.best_params_"
   ]
  },
  {
   "cell_type": "code",
   "execution_count": null,
   "metadata": {},
   "outputs": [],
   "source": []
  }
 ]
}